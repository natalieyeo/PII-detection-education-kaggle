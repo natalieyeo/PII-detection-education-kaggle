{
 "cells": [
  {
   "cell_type": "markdown",
   "id": "ad327583-5496-4ecd-aeb2-c7bd6a7a3c53",
   "metadata": {},
   "source": [
    "This notebook presents a streamlined version of running the models in batches with updates on parameters."
   ]
  },
  {
   "cell_type": "code",
   "execution_count": 1,
   "id": "fae984b3-32a0-46f3-96d5-aa085e313b09",
   "metadata": {
    "scrolled": true
   },
   "outputs": [
    {
     "name": "stderr",
     "output_type": "stream",
     "text": [
      "2024-05-22 01:13:54.192204: I metal_plugin/src/device/metal_device.cc:1154] Metal device set to: Apple M3 Pro\n",
      "2024-05-22 01:13:54.192228: I metal_plugin/src/device/metal_device.cc:296] systemMemory: 18.00 GB\n",
      "2024-05-22 01:13:54.192231: I metal_plugin/src/device/metal_device.cc:313] maxCacheSize: 6.00 GB\n",
      "2024-05-22 01:13:54.192248: I tensorflow/core/common_runtime/pluggable_device/pluggable_device_factory.cc:305] Could not identify NUMA node of platform GPU ID 0, defaulting to 0. Your kernel may not have been built with NUMA support.\n",
      "2024-05-22 01:13:54.192257: I tensorflow/core/common_runtime/pluggable_device/pluggable_device_factory.cc:271] Created TensorFlow device (/job:localhost/replica:0/task:0/device:GPU:0 with 0 MB memory) -> physical PluggableDevice (device: 0, name: METAL, pci bus id: <undefined>)\n"
     ]
    }
   ],
   "source": [
    "%run nlp-functions.ipynb"
   ]
  },
  {
   "cell_type": "code",
   "execution_count": 2,
   "id": "09f10e41-5fad-4fc3-bf12-1f118e9492ab",
   "metadata": {},
   "outputs": [],
   "source": [
    "df1 = pd.read_json('initial_predictions.json')"
   ]
  },
  {
   "cell_type": "code",
   "execution_count": 5,
   "id": "0912aca5-0bd9-4ae6-a842-de280d5b4dda",
   "metadata": {},
   "outputs": [],
   "source": [
    "params = {'embed_dim' : [24, 32],\n",
    "          'ff_dim' : [48, 64,96],\n",
    "          'Batch Size' : 5,\n",
    "          'Num Transformer Heads' : [1, 2, 4, 8],\n",
    "          'Sample Random State': 72}\n",
    "\n",
    "NUM_NEG_SAMPLES = 1500\n",
    "TEST_SIZE = 0.2\n",
    "results_df = RecordDataFrame()\n",
    "import itertools\n",
    "FILE = 'lstm.csv'\n",
    "RESULTS = 'individual_layers.csv'\n",
    "\n",
    "dim_combos = set(list(itertools.combinations(itertools.chain(params['embed_dim'], params['ff_dim']),2)))\n",
    "results_list = []\n",
    "\n",
    "dataset, test_doc_ids = create_sample_data(df1, TEST_SIZE, NUM_NEG_SAMPLES, params['Sample Random State'])\n",
    "X = dataset['tokenized_sentence']\n",
    "y = dataset['labels_in_sentence']"
   ]
  },
  {
   "cell_type": "code",
   "execution_count": 6,
   "id": "ab556284-ee47-449c-a83d-9292cf99597c",
   "metadata": {},
   "outputs": [
    {
     "name": "stdout",
     "output_type": "stream",
     "text": [
      "{'Model Description': 'NER Transformer With One LSTM', 'Sample Random State': 72, 'Epochs': 10, 'embed_dim': 24, 'Num Transformer Heads': 1, 'ff_dim': 96, 'Batch Size': 16}\n",
      "Epoch 1/10\n"
     ]
    },
    {
     "name": "stderr",
     "output_type": "stream",
     "text": [
      "2024-05-21 21:56:39.248238: I tensorflow/core/grappler/optimizers/custom_graph_optimizer_registry.cc:117] Plugin optimizer for device_type GPU is enabled.\n"
     ]
    },
    {
     "name": "stdout",
     "output_type": "stream",
     "text": [
      "\u001b[1m127/127\u001b[0m \u001b[32m━━━━━━━━━━━━━━━━━━━━\u001b[0m\u001b[37m\u001b[0m \u001b[1m11s\u001b[0m 57ms/step - loss: 0.7831 - val_loss: 0.1846\n",
      "Epoch 2/10\n",
      "\u001b[1m127/127\u001b[0m \u001b[32m━━━━━━━━━━━━━━━━━━━━\u001b[0m\u001b[37m\u001b[0m \u001b[1m6s\u001b[0m 50ms/step - loss: 0.1870 - val_loss: 0.1734\n",
      "Epoch 3/10\n",
      "\u001b[1m127/127\u001b[0m \u001b[32m━━━━━━━━━━━━━━━━━━━━\u001b[0m\u001b[37m\u001b[0m \u001b[1m7s\u001b[0m 51ms/step - loss: 0.1297 - val_loss: 0.1620\n",
      "Epoch 4/10\n",
      "\u001b[1m127/127\u001b[0m \u001b[32m━━━━━━━━━━━━━━━━━━━━\u001b[0m\u001b[37m\u001b[0m \u001b[1m6s\u001b[0m 50ms/step - loss: 0.0426 - val_loss: 0.1752\n",
      "Epoch 5/10\n",
      "\u001b[1m127/127\u001b[0m \u001b[32m━━━━━━━━━━━━━━━━━━━━\u001b[0m\u001b[37m\u001b[0m \u001b[1m6s\u001b[0m 51ms/step - loss: 0.0182 - val_loss: 0.1797\n",
      "processed 9843 tokens\n",
      "True Positive: 151, False Positive: 53, False Negative: 209\n",
      "Weighted Precision: 0.725844280240832\n",
      "Weighted Recall: 0.4194444444444444\n",
      "Weighted F1: 0.5184263424382733\n",
      "Micro F5: 0.4265536723163842\n",
      "{'Model Description': 'NER Transformer With One LSTM', 'Sample Random State': 72, 'Epochs': 10, 'embed_dim': 24, 'Num Transformer Heads': 1, 'ff_dim': 96, 'Batch Size': 16}\n",
      "Epoch 1/10\n"
     ]
    },
    {
     "name": "stderr",
     "output_type": "stream",
     "text": [
      "2024-05-21 21:57:16.092017: W tensorflow/core/framework/local_rendezvous.cc:404] Local rendezvous is aborting with status: OUT_OF_RANGE: End of sequence\n"
     ]
    },
    {
     "name": "stdout",
     "output_type": "stream",
     "text": [
      "\u001b[1m127/127\u001b[0m \u001b[32m━━━━━━━━━━━━━━━━━━━━\u001b[0m\u001b[37m\u001b[0m \u001b[1m36s\u001b[0m 58ms/step - loss: 0.5336 - val_loss: 0.1688\n",
      "Epoch 2/10\n",
      "\u001b[1m127/127\u001b[0m \u001b[32m━━━━━━━━━━━━━━━━━━━━\u001b[0m\u001b[37m\u001b[0m \u001b[1m6s\u001b[0m 51ms/step - loss: 0.1375 - val_loss: 0.1331\n",
      "Epoch 3/10\n",
      "\u001b[1m127/127\u001b[0m \u001b[32m━━━━━━━━━━━━━━━━━━━━\u001b[0m\u001b[37m\u001b[0m \u001b[1m6s\u001b[0m 51ms/step - loss: 0.0514 - val_loss: 0.0831\n",
      "Epoch 4/10\n",
      "\u001b[1m127/127\u001b[0m \u001b[32m━━━━━━━━━━━━━━━━━━━━\u001b[0m\u001b[37m\u001b[0m \u001b[1m6s\u001b[0m 51ms/step - loss: 0.0198 - val_loss: 0.0823\n",
      "Epoch 5/10\n",
      "\u001b[1m127/127\u001b[0m \u001b[32m━━━━━━━━━━━━━━━━━━━━\u001b[0m\u001b[37m\u001b[0m \u001b[1m7s\u001b[0m 52ms/step - loss: 0.0098 - val_loss: 0.0924\n",
      "Epoch 6/10\n",
      "\u001b[1m127/127\u001b[0m \u001b[32m━━━━━━━━━━━━━━━━━━━━\u001b[0m\u001b[37m\u001b[0m \u001b[1m7s\u001b[0m 56ms/step - loss: 0.0066 - val_loss: 0.1116\n",
      "processed 9843 tokens\n",
      "True Positive: 167, False Positive: 68, False Negative: 193\n",
      "Weighted Precision: 0.8273875007230029\n",
      "Weighted Recall: 0.46388888888888885\n",
      "Weighted F1: 0.589777198997629\n",
      "Micro F5: 0.4701678397401191\n",
      "{'Model Description': 'NER Transformer With One LSTM', 'Sample Random State': 72, 'Epochs': 10, 'embed_dim': 24, 'Num Transformer Heads': 1, 'ff_dim': 96, 'Batch Size': 16}\n",
      "Epoch 1/10\n"
     ]
    },
    {
     "name": "stderr",
     "output_type": "stream",
     "text": [
      "2024-05-21 21:58:27.001032: W tensorflow/core/framework/local_rendezvous.cc:404] Local rendezvous is aborting with status: OUT_OF_RANGE: End of sequence\n"
     ]
    },
    {
     "name": "stdout",
     "output_type": "stream",
     "text": [
      "\u001b[1m127/127\u001b[0m \u001b[32m━━━━━━━━━━━━━━━━━━━━\u001b[0m\u001b[37m\u001b[0m \u001b[1m11s\u001b[0m 63ms/step - loss: 0.5983 - val_loss: 0.1768\n",
      "Epoch 2/10\n",
      "\u001b[1m127/127\u001b[0m \u001b[32m━━━━━━━━━━━━━━━━━━━━\u001b[0m\u001b[37m\u001b[0m \u001b[1m6s\u001b[0m 51ms/step - loss: 0.1346 - val_loss: 0.1377\n",
      "Epoch 3/10\n",
      "\u001b[1m127/127\u001b[0m \u001b[32m━━━━━━━━━━━━━━━━━━━━\u001b[0m\u001b[37m\u001b[0m \u001b[1m7s\u001b[0m 52ms/step - loss: 0.0482 - val_loss: 0.1098\n",
      "Epoch 4/10\n",
      "\u001b[1m127/127\u001b[0m \u001b[32m━━━━━━━━━━━━━━━━━━━━\u001b[0m\u001b[37m\u001b[0m \u001b[1m7s\u001b[0m 52ms/step - loss: 0.0187 - val_loss: 0.1081\n",
      "Epoch 5/10\n",
      "\u001b[1m127/127\u001b[0m \u001b[32m━━━━━━━━━━━━━━━━━━━━\u001b[0m\u001b[37m\u001b[0m \u001b[1m7s\u001b[0m 54ms/step - loss: 0.0112 - val_loss: 0.1290\n",
      "Epoch 6/10\n",
      "\u001b[1m127/127\u001b[0m \u001b[32m━━━━━━━━━━━━━━━━━━━━\u001b[0m\u001b[37m\u001b[0m \u001b[1m6s\u001b[0m 51ms/step - loss: 0.0060 - val_loss: 0.1181\n",
      "processed 9843 tokens\n",
      "True Positive: 193, False Positive: 112, False Negative: 167\n",
      "Weighted Precision: 0.6606931886678722\n",
      "Weighted Recall: 0.5361111111111111\n",
      "Weighted F1: 0.5716093959933046\n",
      "Micro F5: 0.539279957012359\n",
      "{'Model Description': 'NER Transformer With One LSTM', 'Sample Random State': 72, 'Epochs': 10, 'embed_dim': 24, 'Num Transformer Heads': 1, 'ff_dim': 64, 'Batch Size': 16}\n",
      "Epoch 1/10\n"
     ]
    },
    {
     "name": "stderr",
     "output_type": "stream",
     "text": [
      "2024-05-21 21:59:12.335264: W tensorflow/core/framework/local_rendezvous.cc:404] Local rendezvous is aborting with status: OUT_OF_RANGE: End of sequence\n"
     ]
    },
    {
     "name": "stdout",
     "output_type": "stream",
     "text": [
      "\u001b[1m127/127\u001b[0m \u001b[32m━━━━━━━━━━━━━━━━━━━━\u001b[0m\u001b[37m\u001b[0m \u001b[1m11s\u001b[0m 65ms/step - loss: 0.7736 - val_loss: 0.1892\n",
      "Epoch 2/10\n",
      "\u001b[1m127/127\u001b[0m \u001b[32m━━━━━━━━━━━━━━━━━━━━\u001b[0m\u001b[37m\u001b[0m \u001b[1m7s\u001b[0m 52ms/step - loss: 0.2002 - val_loss: 0.1715\n",
      "Epoch 3/10\n",
      "\u001b[1m127/127\u001b[0m \u001b[32m━━━━━━━━━━━━━━━━━━━━\u001b[0m\u001b[37m\u001b[0m \u001b[1m7s\u001b[0m 51ms/step - loss: 0.1464 - val_loss: 0.1561\n",
      "Epoch 4/10\n",
      "\u001b[1m127/127\u001b[0m \u001b[32m━━━━━━━━━━━━━━━━━━━━\u001b[0m\u001b[37m\u001b[0m \u001b[1m7s\u001b[0m 52ms/step - loss: 0.0514 - val_loss: 0.1369\n",
      "Epoch 5/10\n",
      "\u001b[1m127/127\u001b[0m \u001b[32m━━━━━━━━━━━━━━━━━━━━\u001b[0m\u001b[37m\u001b[0m \u001b[1m7s\u001b[0m 52ms/step - loss: 0.0202 - val_loss: 0.1499\n",
      "Epoch 6/10\n",
      "\u001b[1m127/127\u001b[0m \u001b[32m━━━━━━━━━━━━━━━━━━━━\u001b[0m\u001b[37m\u001b[0m \u001b[1m7s\u001b[0m 52ms/step - loss: 0.0119 - val_loss: 0.1399\n",
      "processed 9843 tokens\n",
      "True Positive: 165, False Positive: 100, False Negative: 195\n",
      "Weighted Precision: 0.6530839802066217\n",
      "Weighted Recall: 0.4583333333333333\n",
      "Weighted F1: 0.5279336790946697\n",
      "Micro F5: 0.46303291958985426\n",
      "{'Model Description': 'NER Transformer With One LSTM', 'Sample Random State': 72, 'Epochs': 10, 'embed_dim': 24, 'Num Transformer Heads': 1, 'ff_dim': 64, 'Batch Size': 16}\n",
      "Epoch 1/10\n"
     ]
    },
    {
     "name": "stderr",
     "output_type": "stream",
     "text": [
      "2024-05-21 21:59:57.780730: W tensorflow/core/framework/local_rendezvous.cc:404] Local rendezvous is aborting with status: OUT_OF_RANGE: End of sequence\n"
     ]
    },
    {
     "name": "stdout",
     "output_type": "stream",
     "text": [
      "\u001b[1m127/127\u001b[0m \u001b[32m━━━━━━━━━━━━━━━━━━━━\u001b[0m\u001b[37m\u001b[0m \u001b[1m12s\u001b[0m 68ms/step - loss: 0.7733 - val_loss: 0.1741\n",
      "Epoch 2/10\n",
      "\u001b[1m127/127\u001b[0m \u001b[32m━━━━━━━━━━━━━━━━━━━━\u001b[0m\u001b[37m\u001b[0m \u001b[1m6s\u001b[0m 51ms/step - loss: 0.1478 - val_loss: 0.1335\n",
      "Epoch 3/10\n",
      "\u001b[1m127/127\u001b[0m \u001b[32m━━━━━━━━━━━━━━━━━━━━\u001b[0m\u001b[37m\u001b[0m \u001b[1m6s\u001b[0m 51ms/step - loss: 0.0605 - val_loss: 0.1265\n",
      "Epoch 4/10\n",
      "\u001b[1m127/127\u001b[0m \u001b[32m━━━━━━━━━━━━━━━━━━━━\u001b[0m\u001b[37m\u001b[0m \u001b[1m6s\u001b[0m 51ms/step - loss: 0.0254 - val_loss: 0.1271\n",
      "Epoch 5/10\n",
      "\u001b[1m127/127\u001b[0m \u001b[32m━━━━━━━━━━━━━━━━━━━━\u001b[0m\u001b[37m\u001b[0m \u001b[1m6s\u001b[0m 50ms/step - loss: 0.0139 - val_loss: 0.1392\n",
      "processed 9843 tokens\n",
      "True Positive: 154, False Positive: 28, False Negative: 206\n",
      "Weighted Precision: 0.8227252843394576\n",
      "Weighted Recall: 0.42777777777777776\n",
      "Weighted F1: 0.5468399044205495\n",
      "Micro F5: 0.4360705728599434\n",
      "{'Model Description': 'NER Transformer With One LSTM', 'Sample Random State': 72, 'Epochs': 10, 'embed_dim': 24, 'Num Transformer Heads': 1, 'ff_dim': 64, 'Batch Size': 16}\n",
      "Epoch 1/10\n"
     ]
    },
    {
     "name": "stderr",
     "output_type": "stream",
     "text": [
      "2024-05-21 22:00:36.792370: W tensorflow/core/framework/local_rendezvous.cc:404] Local rendezvous is aborting with status: OUT_OF_RANGE: End of sequence\n"
     ]
    },
    {
     "name": "stdout",
     "output_type": "stream",
     "text": [
      "\u001b[1m127/127\u001b[0m \u001b[32m━━━━━━━━━━━━━━━━━━━━\u001b[0m\u001b[37m\u001b[0m \u001b[1m13s\u001b[0m 75ms/step - loss: 0.5763 - val_loss: 0.1651\n",
      "Epoch 2/10\n",
      "\u001b[1m127/127\u001b[0m \u001b[32m━━━━━━━━━━━━━━━━━━━━\u001b[0m\u001b[37m\u001b[0m \u001b[1m7s\u001b[0m 51ms/step - loss: 0.1345 - val_loss: 0.1269\n",
      "Epoch 3/10\n",
      "\u001b[1m127/127\u001b[0m \u001b[32m━━━━━━━━━━━━━━━━━━━━\u001b[0m\u001b[37m\u001b[0m \u001b[1m7s\u001b[0m 52ms/step - loss: 0.0554 - val_loss: 0.1088\n",
      "Epoch 4/10\n",
      "\u001b[1m127/127\u001b[0m \u001b[32m━━━━━━━━━━━━━━━━━━━━\u001b[0m\u001b[37m\u001b[0m \u001b[1m7s\u001b[0m 51ms/step - loss: 0.0247 - val_loss: 0.1068\n",
      "Epoch 5/10\n",
      "\u001b[1m127/127\u001b[0m \u001b[32m━━━━━━━━━━━━━━━━━━━━\u001b[0m\u001b[37m\u001b[0m \u001b[1m6s\u001b[0m 51ms/step - loss: 0.0132 - val_loss: 0.1188\n",
      "Epoch 6/10\n",
      "\u001b[1m127/127\u001b[0m \u001b[32m━━━━━━━━━━━━━━━━━━━━\u001b[0m\u001b[37m\u001b[0m \u001b[1m6s\u001b[0m 51ms/step - loss: 0.0071 - val_loss: 0.1340\n",
      "processed 9843 tokens\n",
      "True Positive: 161, False Positive: 55, False Negative: 199\n",
      "Weighted Precision: 0.7364758591608688\n",
      "Weighted Recall: 0.44722222222222224\n",
      "Weighted F1: 0.5338478473093857\n",
      "Micro F5: 0.4542100694444444\n",
      "{'Model Description': 'NER Transformer With One LSTM', 'Sample Random State': 72, 'Epochs': 10, 'embed_dim': 24, 'Num Transformer Heads': 1, 'ff_dim': 48, 'Batch Size': 16}\n",
      "Epoch 1/10\n"
     ]
    },
    {
     "name": "stderr",
     "output_type": "stream",
     "text": [
      "2024-05-21 22:01:23.765756: W tensorflow/core/framework/local_rendezvous.cc:404] Local rendezvous is aborting with status: OUT_OF_RANGE: End of sequence\n"
     ]
    },
    {
     "name": "stdout",
     "output_type": "stream",
     "text": [
      "\u001b[1m127/127\u001b[0m \u001b[32m━━━━━━━━━━━━━━━━━━━━\u001b[0m\u001b[37m\u001b[0m \u001b[1m15s\u001b[0m 86ms/step - loss: 0.8872 - val_loss: 0.1819\n",
      "Epoch 2/10\n",
      "\u001b[1m127/127\u001b[0m \u001b[32m━━━━━━━━━━━━━━━━━━━━\u001b[0m\u001b[37m\u001b[0m \u001b[1m7s\u001b[0m 58ms/step - loss: 0.1722 - val_loss: 0.1238\n",
      "Epoch 3/10\n",
      "\u001b[1m127/127\u001b[0m \u001b[32m━━━━━━━━━━━━━━━━━━━━\u001b[0m\u001b[37m\u001b[0m \u001b[1m7s\u001b[0m 58ms/step - loss: 0.0738 - val_loss: 0.1261\n",
      "Epoch 4/10\n",
      "\u001b[1m127/127\u001b[0m \u001b[32m━━━━━━━━━━━━━━━━━━━━\u001b[0m\u001b[37m\u001b[0m \u001b[1m7s\u001b[0m 55ms/step - loss: 0.0306 - val_loss: 0.1117\n",
      "Epoch 5/10\n",
      "\u001b[1m127/127\u001b[0m \u001b[32m━━━━━━━━━━━━━━━━━━━━\u001b[0m\u001b[37m\u001b[0m \u001b[1m6s\u001b[0m 51ms/step - loss: 0.0174 - val_loss: 0.1152\n",
      "Epoch 6/10\n",
      "\u001b[1m127/127\u001b[0m \u001b[32m━━━━━━━━━━━━━━━━━━━━\u001b[0m\u001b[37m\u001b[0m \u001b[1m6s\u001b[0m 51ms/step - loss: 0.0095 - val_loss: 0.1099\n",
      "Epoch 7/10\n",
      "\u001b[1m127/127\u001b[0m \u001b[32m━━━━━━━━━━━━━━━━━━━━\u001b[0m\u001b[37m\u001b[0m \u001b[1m7s\u001b[0m 54ms/step - loss: 0.0061 - val_loss: 0.1108\n",
      "Epoch 8/10\n",
      "\u001b[1m127/127\u001b[0m \u001b[32m━━━━━━━━━━━━━━━━━━━━\u001b[0m\u001b[37m\u001b[0m \u001b[1m7s\u001b[0m 52ms/step - loss: 0.0038 - val_loss: 0.1047\n",
      "Epoch 9/10\n",
      "\u001b[1m127/127\u001b[0m \u001b[32m━━━━━━━━━━━━━━━━━━━━\u001b[0m\u001b[37m\u001b[0m \u001b[1m6s\u001b[0m 50ms/step - loss: 0.0028 - val_loss: 0.1057\n",
      "Epoch 10/10\n",
      "\u001b[1m127/127\u001b[0m \u001b[32m━━━━━━━━━━━━━━━━━━━━\u001b[0m\u001b[37m\u001b[0m \u001b[1m6s\u001b[0m 51ms/step - loss: 0.0022 - val_loss: 0.1112\n",
      "processed 9843 tokens\n",
      "True Positive: 180, False Positive: 112, False Negative: 180\n",
      "Weighted Precision: 0.6631132440090912\n",
      "Weighted Recall: 0.49999999999999994\n",
      "Weighted F1: 0.5633621330882413\n",
      "Micro F5: 0.5036590615583297\n",
      "{'Model Description': 'NER Transformer With One LSTM', 'Sample Random State': 72, 'Epochs': 10, 'embed_dim': 24, 'Num Transformer Heads': 1, 'ff_dim': 48, 'Batch Size': 16}\n",
      "Epoch 1/10\n"
     ]
    },
    {
     "name": "stderr",
     "output_type": "stream",
     "text": [
      "2024-05-21 22:02:41.045428: W tensorflow/core/framework/local_rendezvous.cc:404] Local rendezvous is aborting with status: OUT_OF_RANGE: End of sequence\n"
     ]
    },
    {
     "name": "stdout",
     "output_type": "stream",
     "text": [
      "\u001b[1m127/127\u001b[0m \u001b[32m━━━━━━━━━━━━━━━━━━━━\u001b[0m\u001b[37m\u001b[0m \u001b[1m15s\u001b[0m 91ms/step - loss: 0.7904 - val_loss: 0.1732\n",
      "Epoch 2/10\n",
      "\u001b[1m127/127\u001b[0m \u001b[32m━━━━━━━━━━━━━━━━━━━━\u001b[0m\u001b[37m\u001b[0m \u001b[1m6s\u001b[0m 51ms/step - loss: 0.1262 - val_loss: 0.1347\n",
      "Epoch 3/10\n",
      "\u001b[1m127/127\u001b[0m \u001b[32m━━━━━━━━━━━━━━━━━━━━\u001b[0m\u001b[37m\u001b[0m \u001b[1m6s\u001b[0m 51ms/step - loss: 0.0481 - val_loss: 0.1042\n",
      "Epoch 4/10\n",
      "\u001b[1m127/127\u001b[0m \u001b[32m━━━━━━━━━━━━━━━━━━━━\u001b[0m\u001b[37m\u001b[0m \u001b[1m6s\u001b[0m 51ms/step - loss: 0.0212 - val_loss: 0.1239\n",
      "Epoch 5/10\n",
      "\u001b[1m127/127\u001b[0m \u001b[32m━━━━━━━━━━━━━━━━━━━━\u001b[0m\u001b[37m\u001b[0m \u001b[1m6s\u001b[0m 50ms/step - loss: 0.0106 - val_loss: 0.1223\n",
      "processed 9843 tokens\n",
      "True Positive: 162, False Positive: 40, False Negative: 198\n",
      "Weighted Precision: 0.8033676421957672\n",
      "Weighted Recall: 0.44999999999999996\n",
      "Weighted F1: 0.5693267522605394\n",
      "Micro F5: 0.4577265811780048\n",
      "{'Model Description': 'NER Transformer With One LSTM', 'Sample Random State': 72, 'Epochs': 10, 'embed_dim': 24, 'Num Transformer Heads': 1, 'ff_dim': 48, 'Batch Size': 16}\n",
      "Epoch 1/10\n"
     ]
    },
    {
     "name": "stderr",
     "output_type": "stream",
     "text": [
      "2024-05-21 22:03:23.955347: W tensorflow/core/framework/local_rendezvous.cc:404] Local rendezvous is aborting with status: OUT_OF_RANGE: End of sequence\n"
     ]
    },
    {
     "name": "stdout",
     "output_type": "stream",
     "text": [
      "\u001b[1m127/127\u001b[0m \u001b[32m━━━━━━━━━━━━━━━━━━━━\u001b[0m\u001b[37m\u001b[0m \u001b[1m16s\u001b[0m 98ms/step - loss: 0.8941 - val_loss: 0.1868\n",
      "Epoch 2/10\n",
      "\u001b[1m127/127\u001b[0m \u001b[32m━━━━━━━━━━━━━━━━━━━━\u001b[0m\u001b[37m\u001b[0m \u001b[1m7s\u001b[0m 58ms/step - loss: 0.1762 - val_loss: 0.1509\n",
      "Epoch 3/10\n",
      "\u001b[1m127/127\u001b[0m \u001b[32m━━━━━━━━━━━━━━━━━━━━\u001b[0m\u001b[37m\u001b[0m \u001b[1m7s\u001b[0m 54ms/step - loss: 0.0676 - val_loss: 0.1308\n",
      "Epoch 4/10\n",
      "\u001b[1m127/127\u001b[0m \u001b[32m━━━━━━━━━━━━━━━━━━━━\u001b[0m\u001b[37m\u001b[0m \u001b[1m7s\u001b[0m 52ms/step - loss: 0.0267 - val_loss: 0.1521\n",
      "Epoch 5/10\n",
      "\u001b[1m127/127\u001b[0m \u001b[32m━━━━━━━━━━━━━━━━━━━━\u001b[0m\u001b[37m\u001b[0m \u001b[1m7s\u001b[0m 52ms/step - loss: 0.0142 - val_loss: 0.1486\n",
      "processed 9843 tokens\n",
      "True Positive: 159, False Positive: 172, False Negative: 201\n",
      "Weighted Precision: 0.5177829014785537\n",
      "Weighted Recall: 0.4416666666666667\n",
      "Weighted F1: 0.44016055045871555\n",
      "Micro F5: 0.4430393312613868\n",
      "{'Model Description': 'NER Transformer With One LSTM', 'Sample Random State': 72, 'Epochs': 10, 'embed_dim': 24, 'Num Transformer Heads': 1, 'ff_dim': 32, 'Batch Size': 16}\n",
      "Epoch 1/10\n"
     ]
    },
    {
     "name": "stderr",
     "output_type": "stream",
     "text": [
      "2024-05-21 22:04:09.722046: W tensorflow/core/framework/local_rendezvous.cc:404] Local rendezvous is aborting with status: OUT_OF_RANGE: End of sequence\n"
     ]
    },
    {
     "name": "stdout",
     "output_type": "stream",
     "text": [
      "\u001b[1m127/127\u001b[0m \u001b[32m━━━━━━━━━━━━━━━━━━━━\u001b[0m\u001b[37m\u001b[0m \u001b[1m16s\u001b[0m 96ms/step - loss: 0.6338 - val_loss: 0.1814\n",
      "Epoch 2/10\n",
      "\u001b[1m127/127\u001b[0m \u001b[32m━━━━━━━━━━━━━━━━━━━━\u001b[0m\u001b[37m\u001b[0m \u001b[1m7s\u001b[0m 53ms/step - loss: 0.1870 - val_loss: 0.1598\n",
      "Epoch 3/10\n",
      "\u001b[1m127/127\u001b[0m \u001b[32m━━━━━━━━━━━━━━━━━━━━\u001b[0m\u001b[37m\u001b[0m \u001b[1m7s\u001b[0m 52ms/step - loss: 0.1180 - val_loss: 0.1212\n",
      "Epoch 4/10\n",
      "\u001b[1m127/127\u001b[0m \u001b[32m━━━━━━━━━━━━━━━━━━━━\u001b[0m\u001b[37m\u001b[0m \u001b[1m7s\u001b[0m 51ms/step - loss: 0.0508 - val_loss: 0.0946\n",
      "Epoch 5/10\n",
      "\u001b[1m127/127\u001b[0m \u001b[32m━━━━━━━━━━━━━━━━━━━━\u001b[0m\u001b[37m\u001b[0m \u001b[1m7s\u001b[0m 51ms/step - loss: 0.0248 - val_loss: 0.1149\n",
      "Epoch 6/10\n",
      "\u001b[1m127/127\u001b[0m \u001b[32m━━━━━━━━━━━━━━━━━━━━\u001b[0m\u001b[37m\u001b[0m \u001b[1m6s\u001b[0m 51ms/step - loss: 0.0132 - val_loss: 0.1205\n",
      "processed 9843 tokens\n",
      "True Positive: 159, False Positive: 55, False Negative: 201\n",
      "Weighted Precision: 0.7328139269406393\n",
      "Weighted Recall: 0.44166666666666665\n",
      "Weighted F1: 0.5369141349622385\n",
      "Micro F5: 0.44866507488604296\n",
      "{'Model Description': 'NER Transformer With One LSTM', 'Sample Random State': 72, 'Epochs': 10, 'embed_dim': 24, 'Num Transformer Heads': 1, 'ff_dim': 32, 'Batch Size': 16}\n",
      "Epoch 1/10\n"
     ]
    },
    {
     "name": "stderr",
     "output_type": "stream",
     "text": [
      "2024-05-21 22:05:00.827032: W tensorflow/core/framework/local_rendezvous.cc:404] Local rendezvous is aborting with status: OUT_OF_RANGE: End of sequence\n"
     ]
    },
    {
     "name": "stdout",
     "output_type": "stream",
     "text": [
      "\u001b[1m127/127\u001b[0m \u001b[32m━━━━━━━━━━━━━━━━━━━━\u001b[0m\u001b[37m\u001b[0m \u001b[1m16s\u001b[0m 92ms/step - loss: 0.8452 - val_loss: 0.1812\n",
      "Epoch 2/10\n",
      "\u001b[1m127/127\u001b[0m \u001b[32m━━━━━━━━━━━━━━━━━━━━\u001b[0m\u001b[37m\u001b[0m \u001b[1m7s\u001b[0m 51ms/step - loss: 0.1757 - val_loss: 0.1312\n",
      "Epoch 3/10\n",
      "\u001b[1m127/127\u001b[0m \u001b[32m━━━━━━━━━━━━━━━━━━━━\u001b[0m\u001b[37m\u001b[0m \u001b[1m7s\u001b[0m 53ms/step - loss: 0.0812 - val_loss: 0.1111\n",
      "Epoch 4/10\n",
      "\u001b[1m127/127\u001b[0m \u001b[32m━━━━━━━━━━━━━━━━━━━━\u001b[0m\u001b[37m\u001b[0m \u001b[1m7s\u001b[0m 51ms/step - loss: 0.0413 - val_loss: 0.1063\n",
      "Epoch 5/10\n",
      "\u001b[1m127/127\u001b[0m \u001b[32m━━━━━━━━━━━━━━━━━━━━\u001b[0m\u001b[37m\u001b[0m \u001b[1m7s\u001b[0m 51ms/step - loss: 0.0253 - val_loss: 0.1077\n",
      "Epoch 6/10\n",
      "\u001b[1m127/127\u001b[0m \u001b[32m━━━━━━━━━━━━━━━━━━━━\u001b[0m\u001b[37m\u001b[0m \u001b[1m7s\u001b[0m 55ms/step - loss: 0.0143 - val_loss: 0.1288\n",
      "processed 9843 tokens\n",
      "True Positive: 157, False Positive: 81, False Negative: 203\n",
      "Weighted Precision: 0.6814351851851852\n",
      "Weighted Recall: 0.4361111111111111\n",
      "Weighted F1: 0.5014492276907473\n",
      "Micro F5: 0.44187053474778093\n",
      "{'Model Description': 'NER Transformer With One LSTM', 'Sample Random State': 72, 'Epochs': 10, 'embed_dim': 24, 'Num Transformer Heads': 1, 'ff_dim': 32, 'Batch Size': 16}\n",
      "Epoch 1/10\n"
     ]
    },
    {
     "name": "stderr",
     "output_type": "stream",
     "text": [
      "2024-05-21 22:05:51.688817: W tensorflow/core/framework/local_rendezvous.cc:404] Local rendezvous is aborting with status: OUT_OF_RANGE: End of sequence\n"
     ]
    },
    {
     "name": "stdout",
     "output_type": "stream",
     "text": [
      "\u001b[1m127/127\u001b[0m \u001b[32m━━━━━━━━━━━━━━━━━━━━\u001b[0m\u001b[37m\u001b[0m \u001b[1m18s\u001b[0m 110ms/step - loss: 0.9440 - val_loss: 0.1980\n",
      "Epoch 2/10\n",
      "\u001b[1m127/127\u001b[0m \u001b[32m━━━━━━━━━━━━━━━━━━━━\u001b[0m\u001b[37m\u001b[0m \u001b[1m8s\u001b[0m 60ms/step - loss: 0.2020 - val_loss: 0.1248\n",
      "Epoch 3/10\n",
      "\u001b[1m127/127\u001b[0m \u001b[32m━━━━━━━━━━━━━━━━━━━━\u001b[0m\u001b[37m\u001b[0m \u001b[1m7s\u001b[0m 58ms/step - loss: 0.0942 - val_loss: 0.1209\n",
      "Epoch 4/10\n",
      "\u001b[1m127/127\u001b[0m \u001b[32m━━━━━━━━━━━━━━━━━━━━\u001b[0m\u001b[37m\u001b[0m \u001b[1m7s\u001b[0m 54ms/step - loss: 0.0417 - val_loss: 0.1079\n",
      "Epoch 5/10\n",
      "\u001b[1m127/127\u001b[0m \u001b[32m━━━━━━━━━━━━━━━━━━━━\u001b[0m\u001b[37m\u001b[0m \u001b[1m6s\u001b[0m 51ms/step - loss: 0.0215 - val_loss: 0.1167\n",
      "Epoch 6/10\n",
      "\u001b[1m127/127\u001b[0m \u001b[32m━━━━━━━━━━━━━━━━━━━━\u001b[0m\u001b[37m\u001b[0m \u001b[1m7s\u001b[0m 56ms/step - loss: 0.0126 - val_loss: 0.1355\n",
      "processed 9843 tokens\n",
      "True Positive: 158, False Positive: 47, False Negative: 202\n",
      "Weighted Precision: 0.7536111111111111\n",
      "Weighted Recall: 0.4388888888888889\n",
      "Weighted F1: 0.5306381381381381\n",
      "Micro F5: 0.446279196089082\n",
      "{'Model Description': 'NER Transformer With One LSTM', 'Sample Random State': 72, 'Epochs': 10, 'embed_dim': 64, 'Num Transformer Heads': 1, 'ff_dim': 96, 'Batch Size': 16}\n",
      "Epoch 1/10\n"
     ]
    },
    {
     "name": "stderr",
     "output_type": "stream",
     "text": [
      "2024-05-21 22:06:47.593468: W tensorflow/core/framework/local_rendezvous.cc:404] Local rendezvous is aborting with status: OUT_OF_RANGE: End of sequence\n"
     ]
    },
    {
     "name": "stdout",
     "output_type": "stream",
     "text": [
      "\u001b[1m127/127\u001b[0m \u001b[32m━━━━━━━━━━━━━━━━━━━━\u001b[0m\u001b[37m\u001b[0m \u001b[1m22s\u001b[0m 134ms/step - loss: 0.5924 - val_loss: 0.1587\n",
      "Epoch 2/10\n",
      "\u001b[1m127/127\u001b[0m \u001b[32m━━━━━━━━━━━━━━━━━━━━\u001b[0m\u001b[37m\u001b[0m \u001b[1m7s\u001b[0m 57ms/step - loss: 0.1173 - val_loss: 0.0892\n",
      "Epoch 3/10\n",
      "\u001b[1m127/127\u001b[0m \u001b[32m━━━━━━━━━━━━━━━━━━━━\u001b[0m\u001b[37m\u001b[0m \u001b[1m7s\u001b[0m 57ms/step - loss: 0.0267 - val_loss: 0.0775\n",
      "Epoch 4/10\n",
      "\u001b[1m127/127\u001b[0m \u001b[32m━━━━━━━━━━━━━━━━━━━━\u001b[0m\u001b[37m\u001b[0m \u001b[1m7s\u001b[0m 57ms/step - loss: 0.0090 - val_loss: 0.0808\n",
      "Epoch 5/10\n",
      "\u001b[1m127/127\u001b[0m \u001b[32m━━━━━━━━━━━━━━━━━━━━\u001b[0m\u001b[37m\u001b[0m \u001b[1m7s\u001b[0m 57ms/step - loss: 0.0040 - val_loss: 0.0999\n",
      "processed 9843 tokens\n",
      "True Positive: 188, False Positive: 32, False Negative: 172\n",
      "Weighted Precision: 0.8420994909918961\n",
      "Weighted Recall: 0.5222222222222221\n",
      "Weighted F1: 0.6421570813507406\n",
      "Micro F5: 0.5301518438177875\n",
      "{'Model Description': 'NER Transformer With One LSTM', 'Sample Random State': 72, 'Epochs': 10, 'embed_dim': 64, 'Num Transformer Heads': 1, 'ff_dim': 96, 'Batch Size': 16}\n",
      "Epoch 1/10\n"
     ]
    },
    {
     "name": "stderr",
     "output_type": "stream",
     "text": [
      "2024-05-21 22:07:41.061206: W tensorflow/core/framework/local_rendezvous.cc:404] Local rendezvous is aborting with status: OUT_OF_RANGE: End of sequence\n"
     ]
    },
    {
     "name": "stdout",
     "output_type": "stream",
     "text": [
      "\u001b[1m127/127\u001b[0m \u001b[32m━━━━━━━━━━━━━━━━━━━━\u001b[0m\u001b[37m\u001b[0m \u001b[1m22s\u001b[0m 133ms/step - loss: 0.4504 - val_loss: 0.1793\n",
      "Epoch 2/10\n",
      "\u001b[1m127/127\u001b[0m \u001b[32m━━━━━━━━━━━━━━━━━━━━\u001b[0m\u001b[37m\u001b[0m \u001b[1m7s\u001b[0m 59ms/step - loss: 0.2178 - val_loss: 0.1796\n",
      "Epoch 3/10\n",
      "\u001b[1m127/127\u001b[0m \u001b[32m━━━━━━━━━━━━━━━━━━━━\u001b[0m\u001b[37m\u001b[0m \u001b[1m7s\u001b[0m 58ms/step - loss: 0.2018 - val_loss: 0.1985\n",
      "processed 9843 tokens\n",
      "True Positive: 0, False Positive: 0, False Negative: 360\n",
      "Weighted Precision: 0.0\n",
      "Weighted Recall: 0.0\n",
      "Weighted F1: 0.0\n",
      "Micro F5: 0.0\n",
      "{'Model Description': 'NER Transformer With One LSTM', 'Sample Random State': 72, 'Epochs': 10, 'embed_dim': 64, 'Num Transformer Heads': 1, 'ff_dim': 96, 'Batch Size': 16}\n",
      "Epoch 1/10\n"
     ]
    },
    {
     "name": "stderr",
     "output_type": "stream",
     "text": [
      "2024-05-21 22:08:20.552943: W tensorflow/core/framework/local_rendezvous.cc:404] Local rendezvous is aborting with status: OUT_OF_RANGE: End of sequence\n"
     ]
    },
    {
     "name": "stdout",
     "output_type": "stream",
     "text": [
      "\u001b[1m127/127\u001b[0m \u001b[32m━━━━━━━━━━━━━━━━━━━━\u001b[0m\u001b[37m\u001b[0m \u001b[1m23s\u001b[0m 138ms/step - loss: 0.5367 - val_loss: 0.1380\n",
      "Epoch 2/10\n",
      "\u001b[1m127/127\u001b[0m \u001b[32m━━━━━━━━━━━━━━━━━━━━\u001b[0m\u001b[37m\u001b[0m \u001b[1m8s\u001b[0m 59ms/step - loss: 0.1057 - val_loss: 0.0916\n",
      "Epoch 3/10\n",
      "\u001b[1m127/127\u001b[0m \u001b[32m━━━━━━━━━━━━━━━━━━━━\u001b[0m\u001b[37m\u001b[0m \u001b[1m8s\u001b[0m 64ms/step - loss: 0.0292 - val_loss: 0.0794\n",
      "Epoch 4/10\n",
      "\u001b[1m127/127\u001b[0m \u001b[32m━━━━━━━━━━━━━━━━━━━━\u001b[0m\u001b[37m\u001b[0m \u001b[1m8s\u001b[0m 61ms/step - loss: 0.0096 - val_loss: 0.0877\n",
      "Epoch 5/10\n",
      "\u001b[1m127/127\u001b[0m \u001b[32m━━━━━━━━━━━━━━━━━━━━\u001b[0m\u001b[37m\u001b[0m \u001b[1m8s\u001b[0m 63ms/step - loss: 0.0044 - val_loss: 0.0821\n",
      "processed 9843 tokens\n",
      "True Positive: 240, False Positive: 96, False Negative: 120\n",
      "Weighted Precision: 0.7232722505288877\n",
      "Weighted Recall: 0.6666666666666667\n",
      "Weighted F1: 0.6884287300625882\n",
      "Micro F5: 0.6683804627249358\n",
      "{'Model Description': 'NER Transformer With One LSTM', 'Sample Random State': 72, 'Epochs': 10, 'embed_dim': 48, 'Num Transformer Heads': 1, 'ff_dim': 96, 'Batch Size': 16}\n",
      "Epoch 1/10\n"
     ]
    },
    {
     "name": "stderr",
     "output_type": "stream",
     "text": [
      "2024-05-21 22:09:18.709353: W tensorflow/core/framework/local_rendezvous.cc:404] Local rendezvous is aborting with status: OUT_OF_RANGE: End of sequence\n"
     ]
    },
    {
     "name": "stdout",
     "output_type": "stream",
     "text": [
      "\u001b[1m127/127\u001b[0m \u001b[32m━━━━━━━━━━━━━━━━━━━━\u001b[0m\u001b[37m\u001b[0m \u001b[1m27s\u001b[0m 153ms/step - loss: 0.6629 - val_loss: 0.1445\n",
      "Epoch 2/10\n",
      "\u001b[1m127/127\u001b[0m \u001b[32m━━━━━━━━━━━━━━━━━━━━\u001b[0m\u001b[37m\u001b[0m \u001b[1m7s\u001b[0m 58ms/step - loss: 0.1084 - val_loss: 0.1050\n",
      "Epoch 3/10\n",
      "\u001b[1m127/127\u001b[0m \u001b[32m━━━━━━━━━━━━━━━━━━━━\u001b[0m\u001b[37m\u001b[0m \u001b[1m7s\u001b[0m 57ms/step - loss: 0.0341 - val_loss: 0.0847\n",
      "Epoch 4/10\n",
      "\u001b[1m127/127\u001b[0m \u001b[32m━━━━━━━━━━━━━━━━━━━━\u001b[0m\u001b[37m\u001b[0m \u001b[1m7s\u001b[0m 57ms/step - loss: 0.0124 - val_loss: 0.1092\n",
      "Epoch 5/10\n",
      "\u001b[1m127/127\u001b[0m \u001b[32m━━━━━━━━━━━━━━━━━━━━\u001b[0m\u001b[37m\u001b[0m \u001b[1m7s\u001b[0m 57ms/step - loss: 0.0056 - val_loss: 0.0899\n",
      "processed 9843 tokens\n",
      "True Positive: 236, False Positive: 97, False Negative: 124\n",
      "Weighted Precision: 0.7796974789915967\n",
      "Weighted Recall: 0.6555555555555556\n",
      "Weighted F1: 0.706585792687031\n",
      "Micro F5: 0.6574520518589949\n",
      "{'Model Description': 'NER Transformer With One LSTM', 'Sample Random State': 72, 'Epochs': 10, 'embed_dim': 48, 'Num Transformer Heads': 1, 'ff_dim': 96, 'Batch Size': 16}\n",
      "Epoch 1/10\n"
     ]
    },
    {
     "name": "stderr",
     "output_type": "stream",
     "text": [
      "2024-05-21 22:10:17.658990: W tensorflow/core/framework/local_rendezvous.cc:404] Local rendezvous is aborting with status: OUT_OF_RANGE: End of sequence\n"
     ]
    },
    {
     "name": "stdout",
     "output_type": "stream",
     "text": [
      "\u001b[1m127/127\u001b[0m \u001b[32m━━━━━━━━━━━━━━━━━━━━\u001b[0m\u001b[37m\u001b[0m \u001b[1m24s\u001b[0m 140ms/step - loss: 0.5083 - val_loss: 0.1284\n",
      "Epoch 2/10\n",
      "\u001b[1m127/127\u001b[0m \u001b[32m━━━━━━━━━━━━━━━━━━━━\u001b[0m\u001b[37m\u001b[0m \u001b[1m8s\u001b[0m 60ms/step - loss: 0.0946 - val_loss: 0.0911\n",
      "Epoch 3/10\n",
      "\u001b[1m127/127\u001b[0m \u001b[32m━━━━━━━━━━━━━━━━━━━━\u001b[0m\u001b[37m\u001b[0m \u001b[1m8s\u001b[0m 60ms/step - loss: 0.0267 - val_loss: 0.0921\n",
      "Epoch 4/10\n",
      "\u001b[1m127/127\u001b[0m \u001b[32m━━━━━━━━━━━━━━━━━━━━\u001b[0m\u001b[37m\u001b[0m \u001b[1m7s\u001b[0m 56ms/step - loss: 0.0104 - val_loss: 0.0847\n",
      "Epoch 5/10\n",
      "\u001b[1m127/127\u001b[0m \u001b[32m━━━━━━━━━━━━━━━━━━━━\u001b[0m\u001b[37m\u001b[0m \u001b[1m7s\u001b[0m 55ms/step - loss: 0.0049 - val_loss: 0.0988\n",
      "Epoch 6/10\n",
      "\u001b[1m127/127\u001b[0m \u001b[32m━━━━━━━━━━━━━━━━━━━━\u001b[0m\u001b[37m\u001b[0m \u001b[1m7s\u001b[0m 56ms/step - loss: 0.0027 - val_loss: 0.0945\n",
      "processed 9843 tokens\n",
      "True Positive: 217, False Positive: 71, False Negative: 143\n",
      "Weighted Precision: 0.7289223603964169\n",
      "Weighted Recall: 0.6027777777777779\n",
      "Weighted F1: 0.6552148502796437\n",
      "Micro F5: 0.6074504737295435\n",
      "{'Model Description': 'NER Transformer With One LSTM', 'Sample Random State': 72, 'Epochs': 10, 'embed_dim': 48, 'Num Transformer Heads': 1, 'ff_dim': 96, 'Batch Size': 16}\n",
      "Epoch 1/10\n"
     ]
    },
    {
     "name": "stderr",
     "output_type": "stream",
     "text": [
      "2024-05-21 22:11:20.789986: W tensorflow/core/framework/local_rendezvous.cc:404] Local rendezvous is aborting with status: OUT_OF_RANGE: End of sequence\n"
     ]
    },
    {
     "name": "stdout",
     "output_type": "stream",
     "text": [
      "\u001b[1m127/127\u001b[0m \u001b[32m━━━━━━━━━━━━━━━━━━━━\u001b[0m\u001b[37m\u001b[0m \u001b[1m26s\u001b[0m 161ms/step - loss: 0.5083 - val_loss: 0.1769\n",
      "Epoch 2/10\n",
      "\u001b[1m127/127\u001b[0m \u001b[32m━━━━━━━━━━━━━━━━━━━━\u001b[0m\u001b[37m\u001b[0m \u001b[1m8s\u001b[0m 60ms/step - loss: 0.1770 - val_loss: 0.1209\n",
      "Epoch 3/10\n",
      "\u001b[1m127/127\u001b[0m \u001b[32m━━━━━━━━━━━━━━━━━━━━\u001b[0m\u001b[37m\u001b[0m \u001b[1m7s\u001b[0m 57ms/step - loss: 0.0730 - val_loss: 0.1131\n",
      "Epoch 4/10\n",
      "\u001b[1m127/127\u001b[0m \u001b[32m━━━━━━━━━━━━━━━━━━━━\u001b[0m\u001b[37m\u001b[0m \u001b[1m7s\u001b[0m 59ms/step - loss: 0.0180 - val_loss: 0.1180\n",
      "Epoch 5/10\n",
      "\u001b[1m127/127\u001b[0m \u001b[32m━━━━━━━━━━━━━━━━━━━━\u001b[0m\u001b[37m\u001b[0m \u001b[1m7s\u001b[0m 59ms/step - loss: 0.0094 - val_loss: 0.1362\n",
      "processed 9843 tokens\n",
      "True Positive: 157, False Positive: 60, False Negative: 203\n",
      "Weighted Precision: 0.7664348415223283\n",
      "Weighted Recall: 0.4361111111111111\n",
      "Weighted F1: 0.5232431371424368\n",
      "Micro F5: 0.44287729196050774\n",
      "{'Model Description': 'NER Transformer With One LSTM', 'Sample Random State': 72, 'Epochs': 10, 'embed_dim': 32, 'Num Transformer Heads': 1, 'ff_dim': 96, 'Batch Size': 16}\n",
      "Epoch 1/10\n"
     ]
    },
    {
     "name": "stderr",
     "output_type": "stream",
     "text": [
      "2024-05-21 22:12:19.459656: W tensorflow/core/framework/local_rendezvous.cc:404] Local rendezvous is aborting with status: OUT_OF_RANGE: End of sequence\n"
     ]
    },
    {
     "name": "stdout",
     "output_type": "stream",
     "text": [
      "\u001b[1m127/127\u001b[0m \u001b[32m━━━━━━━━━━━━━━━━━━━━\u001b[0m\u001b[37m\u001b[0m \u001b[1m26s\u001b[0m 150ms/step - loss: 0.7122 - val_loss: 0.1621\n",
      "Epoch 2/10\n",
      "\u001b[1m127/127\u001b[0m \u001b[32m━━━━━━━━━━━━━━━━━━━━\u001b[0m\u001b[37m\u001b[0m \u001b[1m7s\u001b[0m 57ms/step - loss: 0.1334 - val_loss: 0.1010\n",
      "Epoch 3/10\n",
      "\u001b[1m127/127\u001b[0m \u001b[32m━━━━━━━━━━━━━━━━━━━━\u001b[0m\u001b[37m\u001b[0m \u001b[1m7s\u001b[0m 56ms/step - loss: 0.0494 - val_loss: 0.0848\n",
      "Epoch 4/10\n",
      "\u001b[1m127/127\u001b[0m \u001b[32m━━━━━━━━━━━━━━━━━━━━\u001b[0m\u001b[37m\u001b[0m \u001b[1m7s\u001b[0m 54ms/step - loss: 0.0175 - val_loss: 0.1004\n",
      "Epoch 5/10\n",
      "\u001b[1m127/127\u001b[0m \u001b[32m━━━━━━━━━━━━━━━━━━━━\u001b[0m\u001b[37m\u001b[0m \u001b[1m7s\u001b[0m 55ms/step - loss: 0.0090 - val_loss: 0.1004\n",
      "processed 9843 tokens\n",
      "True Positive: 189, False Positive: 104, False Negative: 171\n",
      "Weighted Precision: 0.7028351532807957\n",
      "Weighted Recall: 0.525\n",
      "Weighted F1: 0.5782524202267321\n",
      "Micro F5: 0.5287851070698375\n",
      "{'Model Description': 'NER Transformer With One LSTM', 'Sample Random State': 72, 'Epochs': 10, 'embed_dim': 32, 'Num Transformer Heads': 1, 'ff_dim': 96, 'Batch Size': 16}\n",
      "Epoch 1/10\n"
     ]
    },
    {
     "name": "stderr",
     "output_type": "stream",
     "text": [
      "2024-05-21 22:13:16.499611: W tensorflow/core/framework/local_rendezvous.cc:404] Local rendezvous is aborting with status: OUT_OF_RANGE: End of sequence\n"
     ]
    },
    {
     "name": "stdout",
     "output_type": "stream",
     "text": [
      "\u001b[1m127/127\u001b[0m \u001b[32m━━━━━━━━━━━━━━━━━━━━\u001b[0m\u001b[37m\u001b[0m \u001b[1m26s\u001b[0m 152ms/step - loss: 0.7266 - val_loss: 0.1785\n",
      "Epoch 2/10\n",
      "\u001b[1m127/127\u001b[0m \u001b[32m━━━━━━━━━━━━━━━━━━━━\u001b[0m\u001b[37m\u001b[0m \u001b[1m7s\u001b[0m 56ms/step - loss: 0.1640 - val_loss: 0.1158\n",
      "Epoch 3/10\n",
      "\u001b[1m127/127\u001b[0m \u001b[32m━━━━━━━━━━━━━━━━━━━━\u001b[0m\u001b[37m\u001b[0m \u001b[1m7s\u001b[0m 55ms/step - loss: 0.0519 - val_loss: 0.1035\n",
      "Epoch 4/10\n",
      "\u001b[1m127/127\u001b[0m \u001b[32m━━━━━━━━━━━━━━━━━━━━\u001b[0m\u001b[37m\u001b[0m \u001b[1m7s\u001b[0m 58ms/step - loss: 0.0193 - val_loss: 0.1251\n",
      "Epoch 5/10\n",
      "\u001b[1m127/127\u001b[0m \u001b[32m━━━━━━━━━━━━━━━━━━━━\u001b[0m\u001b[37m\u001b[0m \u001b[1m7s\u001b[0m 55ms/step - loss: 0.0093 - val_loss: 0.1168\n",
      "processed 9843 tokens\n",
      "True Positive: 198, False Positive: 120, False Negative: 162\n",
      "Weighted Precision: 0.7661855709876543\n",
      "Weighted Recall: 0.55\n",
      "Weighted F1: 0.5966897432031761\n",
      "Micro F5: 0.5524790727623954\n",
      "{'Model Description': 'NER Transformer With One LSTM', 'Sample Random State': 72, 'Epochs': 10, 'embed_dim': 32, 'Num Transformer Heads': 1, 'ff_dim': 96, 'Batch Size': 16}\n",
      "Epoch 1/10\n"
     ]
    },
    {
     "name": "stderr",
     "output_type": "stream",
     "text": [
      "2024-05-21 22:14:13.805647: W tensorflow/core/framework/local_rendezvous.cc:404] Local rendezvous is aborting with status: OUT_OF_RANGE: End of sequence\n"
     ]
    },
    {
     "name": "stdout",
     "output_type": "stream",
     "text": [
      "\u001b[1m127/127\u001b[0m \u001b[32m━━━━━━━━━━━━━━━━━━━━\u001b[0m\u001b[37m\u001b[0m \u001b[1m32s\u001b[0m 177ms/step - loss: 0.6157 - val_loss: 0.1402\n",
      "Epoch 2/10\n",
      "\u001b[1m127/127\u001b[0m \u001b[32m━━━━━━━━━━━━━━━━━━━━\u001b[0m\u001b[37m\u001b[0m \u001b[1m9s\u001b[0m 70ms/step - loss: 0.1086 - val_loss: 0.1308\n",
      "Epoch 3/10\n",
      "\u001b[1m127/127\u001b[0m \u001b[32m━━━━━━━━━━━━━━━━━━━━\u001b[0m\u001b[37m\u001b[0m \u001b[1m8s\u001b[0m 60ms/step - loss: 0.0364 - val_loss: 0.0929\n",
      "Epoch 4/10\n",
      "\u001b[1m127/127\u001b[0m \u001b[32m━━━━━━━━━━━━━━━━━━━━\u001b[0m\u001b[37m\u001b[0m \u001b[1m7s\u001b[0m 56ms/step - loss: 0.0150 - val_loss: 0.1121\n",
      "Epoch 5/10\n",
      "\u001b[1m127/127\u001b[0m \u001b[32m━━━━━━━━━━━━━━━━━━━━\u001b[0m\u001b[37m\u001b[0m \u001b[1m7s\u001b[0m 57ms/step - loss: 0.0101 - val_loss: 0.1098\n",
      "processed 9843 tokens\n",
      "True Positive: 188, False Positive: 69, False Negative: 172\n",
      "Weighted Precision: 0.7432320015441035\n",
      "Weighted Recall: 0.5222222222222221\n",
      "Weighted F1: 0.6044446713870733\n",
      "Micro F5: 0.5280328400129631\n",
      "{'Model Description': 'NER Transformer With One LSTM', 'Sample Random State': 72, 'Epochs': 10, 'embed_dim': 48, 'Num Transformer Heads': 1, 'ff_dim': 64, 'Batch Size': 16}\n",
      "Epoch 1/10\n"
     ]
    },
    {
     "name": "stderr",
     "output_type": "stream",
     "text": [
      "2024-05-21 22:15:19.449819: W tensorflow/core/framework/local_rendezvous.cc:404] Local rendezvous is aborting with status: OUT_OF_RANGE: End of sequence\n"
     ]
    },
    {
     "name": "stdout",
     "output_type": "stream",
     "text": [
      "\u001b[1m127/127\u001b[0m \u001b[32m━━━━━━━━━━━━━━━━━━━━\u001b[0m\u001b[37m\u001b[0m \u001b[1m35s\u001b[0m 189ms/step - loss: 0.5305 - val_loss: 0.1346\n",
      "Epoch 2/10\n",
      "\u001b[1m127/127\u001b[0m \u001b[32m━━━━━━━━━━━━━━━━━━━━\u001b[0m\u001b[37m\u001b[0m \u001b[1m9s\u001b[0m 67ms/step - loss: 0.0958 - val_loss: 0.1245\n",
      "Epoch 3/10\n",
      "\u001b[1m127/127\u001b[0m \u001b[32m━━━━━━━━━━━━━━━━━━━━\u001b[0m\u001b[37m\u001b[0m \u001b[1m7s\u001b[0m 59ms/step - loss: 0.0371 - val_loss: 0.1268\n",
      "Epoch 4/10\n",
      "\u001b[1m127/127\u001b[0m \u001b[32m━━━━━━━━━━━━━━━━━━━━\u001b[0m\u001b[37m\u001b[0m \u001b[1m7s\u001b[0m 56ms/step - loss: 0.0221 - val_loss: 0.1200\n",
      "Epoch 5/10\n",
      "\u001b[1m127/127\u001b[0m \u001b[32m━━━━━━━━━━━━━━━━━━━━\u001b[0m\u001b[37m\u001b[0m \u001b[1m7s\u001b[0m 59ms/step - loss: 0.0091 - val_loss: 0.1207\n",
      "Epoch 6/10\n",
      "\u001b[1m127/127\u001b[0m \u001b[32m━━━━━━━━━━━━━━━━━━━━\u001b[0m\u001b[37m\u001b[0m \u001b[1m7s\u001b[0m 58ms/step - loss: 0.0040 - val_loss: 0.1225\n",
      "processed 9843 tokens\n",
      "True Positive: 184, False Positive: 162, False Negative: 176\n",
      "Weighted Precision: 0.6479402371249477\n",
      "Weighted Recall: 0.5111111111111111\n",
      "Weighted F1: 0.5334268877670292\n",
      "Micro F5: 0.5118767387117483\n",
      "{'Model Description': 'NER Transformer With One LSTM', 'Sample Random State': 72, 'Epochs': 10, 'embed_dim': 48, 'Num Transformer Heads': 1, 'ff_dim': 64, 'Batch Size': 16}\n",
      "Epoch 1/10\n"
     ]
    },
    {
     "name": "stderr",
     "output_type": "stream",
     "text": [
      "2024-05-21 22:16:35.229290: W tensorflow/core/framework/local_rendezvous.cc:404] Local rendezvous is aborting with status: OUT_OF_RANGE: End of sequence\n"
     ]
    },
    {
     "name": "stdout",
     "output_type": "stream",
     "text": [
      "\u001b[1m127/127\u001b[0m \u001b[32m━━━━━━━━━━━━━━━━━━━━\u001b[0m\u001b[37m\u001b[0m \u001b[1m37s\u001b[0m 212ms/step - loss: 0.5829 - val_loss: 0.2479\n",
      "Epoch 2/10\n",
      "\u001b[1m127/127\u001b[0m \u001b[32m━━━━━━━━━━━━━━━━━━━━\u001b[0m\u001b[37m\u001b[0m \u001b[1m8s\u001b[0m 62ms/step - loss: 0.1666 - val_loss: 0.1588\n",
      "Epoch 3/10\n",
      "\u001b[1m127/127\u001b[0m \u001b[32m━━━━━━━━━━━━━━━━━━━━\u001b[0m\u001b[37m\u001b[0m \u001b[1m8s\u001b[0m 60ms/step - loss: 0.0775 - val_loss: 0.0991\n",
      "Epoch 4/10\n",
      "\u001b[1m127/127\u001b[0m \u001b[32m━━━━━━━━━━━━━━━━━━━━\u001b[0m\u001b[37m\u001b[0m \u001b[1m8s\u001b[0m 61ms/step - loss: 0.0239 - val_loss: 0.1235\n",
      "Epoch 5/10\n",
      "\u001b[1m127/127\u001b[0m \u001b[32m━━━━━━━━━━━━━━━━━━━━\u001b[0m\u001b[37m\u001b[0m \u001b[1m7s\u001b[0m 57ms/step - loss: 0.0097 - val_loss: 0.1221\n",
      "processed 9843 tokens\n",
      "True Positive: 168, False Positive: 48, False Negative: 192\n",
      "Weighted Precision: 0.7753453554360813\n",
      "Weighted Recall: 0.4666666666666667\n",
      "Weighted F1: 0.5702128316807215\n",
      "Micro F5: 0.4739583333333333\n",
      "{'Model Description': 'NER Transformer With One LSTM', 'Sample Random State': 72, 'Epochs': 10, 'embed_dim': 48, 'Num Transformer Heads': 1, 'ff_dim': 64, 'Batch Size': 16}\n",
      "Epoch 1/10\n"
     ]
    },
    {
     "name": "stderr",
     "output_type": "stream",
     "text": [
      "2024-05-21 22:17:46.464567: W tensorflow/core/framework/local_rendezvous.cc:404] Local rendezvous is aborting with status: OUT_OF_RANGE: End of sequence\n"
     ]
    },
    {
     "name": "stdout",
     "output_type": "stream",
     "text": [
      "\u001b[1m127/127\u001b[0m \u001b[32m━━━━━━━━━━━━━━━━━━━━\u001b[0m\u001b[37m\u001b[0m \u001b[1m42s\u001b[0m 237ms/step - loss: 0.3291 - val_loss: 0.1119\n",
      "Epoch 2/10\n",
      "\u001b[1m127/127\u001b[0m \u001b[32m━━━━━━━━━━━━━━━━━━━━\u001b[0m\u001b[37m\u001b[0m \u001b[1m9s\u001b[0m 67ms/step - loss: 0.0790 - val_loss: 0.0915\n",
      "Epoch 3/10\n",
      "\u001b[1m127/127\u001b[0m \u001b[32m━━━━━━━━━━━━━━━━━━━━\u001b[0m\u001b[37m\u001b[0m \u001b[1m8s\u001b[0m 60ms/step - loss: 0.0306 - val_loss: 0.0860\n",
      "Epoch 4/10\n",
      "\u001b[1m127/127\u001b[0m \u001b[32m━━━━━━━━━━━━━━━━━━━━\u001b[0m\u001b[37m\u001b[0m \u001b[1m8s\u001b[0m 60ms/step - loss: 0.0126 - val_loss: 0.0871\n",
      "Epoch 5/10\n",
      "\u001b[1m127/127\u001b[0m \u001b[32m━━━━━━━━━━━━━━━━━━━━\u001b[0m\u001b[37m\u001b[0m \u001b[1m8s\u001b[0m 66ms/step - loss: 0.0057 - val_loss: 0.0802\n",
      "Epoch 6/10\n",
      "\u001b[1m127/127\u001b[0m \u001b[32m━━━━━━━━━━━━━━━━━━━━\u001b[0m\u001b[37m\u001b[0m \u001b[1m8s\u001b[0m 66ms/step - loss: 0.0030 - val_loss: 0.0845\n",
      "Epoch 7/10\n",
      "\u001b[1m127/127\u001b[0m \u001b[32m━━━━━━━━━━━━━━━━━━━━\u001b[0m\u001b[37m\u001b[0m \u001b[1m8s\u001b[0m 65ms/step - loss: 0.0017 - val_loss: 0.0849\n",
      "processed 9843 tokens\n",
      "True Positive: 225, False Positive: 113, False Negative: 135\n",
      "Weighted Precision: 0.7031305114638449\n",
      "Weighted Recall: 0.625\n",
      "Weighted F1: 0.6560460231665165\n",
      "Micro F5: 0.6264724780466909\n",
      "{'Model Description': 'NER Transformer With One LSTM', 'Sample Random State': 72, 'Epochs': 10, 'embed_dim': 32, 'Num Transformer Heads': 1, 'ff_dim': 64, 'Batch Size': 16}\n",
      "Epoch 1/10\n"
     ]
    },
    {
     "name": "stderr",
     "output_type": "stream",
     "text": [
      "2024-05-21 22:19:21.843138: W tensorflow/core/framework/local_rendezvous.cc:404] Local rendezvous is aborting with status: OUT_OF_RANGE: End of sequence\n"
     ]
    },
    {
     "name": "stdout",
     "output_type": "stream",
     "text": [
      "\u001b[1m127/127\u001b[0m \u001b[32m━━━━━━━━━━━━━━━━━━━━\u001b[0m\u001b[37m\u001b[0m \u001b[1m48s\u001b[0m 277ms/step - loss: 0.6167 - val_loss: 0.1496\n",
      "Epoch 2/10\n",
      "\u001b[1m127/127\u001b[0m \u001b[32m━━━━━━━━━━━━━━━━━━━━\u001b[0m\u001b[37m\u001b[0m \u001b[1m8s\u001b[0m 60ms/step - loss: 0.1268 - val_loss: 0.1183\n",
      "Epoch 3/10\n",
      "\u001b[1m127/127\u001b[0m \u001b[32m━━━━━━━━━━━━━━━━━━━━\u001b[0m\u001b[37m\u001b[0m \u001b[1m8s\u001b[0m 62ms/step - loss: 0.0523 - val_loss: 0.0806\n",
      "Epoch 4/10\n",
      "\u001b[1m127/127\u001b[0m \u001b[32m━━━━━━━━━━━━━━━━━━━━\u001b[0m\u001b[37m\u001b[0m \u001b[1m18s\u001b[0m 145ms/step - loss: 0.0203 - val_loss: 0.0788\n",
      "Epoch 5/10\n",
      "\u001b[1m127/127\u001b[0m \u001b[32m━━━━━━━━━━━━━━━━━━━━\u001b[0m\u001b[37m\u001b[0m \u001b[1m12s\u001b[0m 90ms/step - loss: 0.0103 - val_loss: 0.0932\n",
      "Epoch 6/10\n",
      "\u001b[1m127/127\u001b[0m \u001b[32m━━━━━━━━━━━━━━━━━━━━\u001b[0m\u001b[37m\u001b[0m \u001b[1m8s\u001b[0m 59ms/step - loss: 0.0060 - val_loss: 0.0931\n",
      "processed 9843 tokens\n",
      "True Positive: 211, False Positive: 50, False Negative: 149\n",
      "Weighted Precision: 0.8193049929029421\n",
      "Weighted Recall: 0.586111111111111\n",
      "Weighted F1: 0.6759493510800898\n",
      "Micro F5: 0.5923766331929597\n",
      "{'Model Description': 'NER Transformer With One LSTM', 'Sample Random State': 72, 'Epochs': 10, 'embed_dim': 32, 'Num Transformer Heads': 1, 'ff_dim': 64, 'Batch Size': 16}\n",
      "Epoch 1/10\n"
     ]
    },
    {
     "name": "stderr",
     "output_type": "stream",
     "text": [
      "2024-05-21 22:21:06.540070: W tensorflow/core/framework/local_rendezvous.cc:404] Local rendezvous is aborting with status: OUT_OF_RANGE: End of sequence\n"
     ]
    },
    {
     "name": "stdout",
     "output_type": "stream",
     "text": [
      "\u001b[1m127/127\u001b[0m \u001b[32m━━━━━━━━━━━━━━━━━━━━\u001b[0m\u001b[37m\u001b[0m \u001b[1m48s\u001b[0m 282ms/step - loss: 0.5467 - val_loss: 0.1727\n",
      "Epoch 2/10\n",
      "\u001b[1m127/127\u001b[0m \u001b[32m━━━━━━━━━━━━━━━━━━━━\u001b[0m\u001b[37m\u001b[0m \u001b[1m8s\u001b[0m 61ms/step - loss: 0.1446 - val_loss: 0.1389\n",
      "Epoch 3/10\n",
      "\u001b[1m127/127\u001b[0m \u001b[32m━━━━━━━━━━━━━━━━━━━━\u001b[0m\u001b[37m\u001b[0m \u001b[1m8s\u001b[0m 63ms/step - loss: 0.0534 - val_loss: 0.1082\n",
      "Epoch 4/10\n",
      "\u001b[1m127/127\u001b[0m \u001b[32m━━━━━━━━━━━━━━━━━━━━\u001b[0m\u001b[37m\u001b[0m \u001b[1m8s\u001b[0m 61ms/step - loss: 0.0206 - val_loss: 0.1120\n",
      "Epoch 5/10\n",
      "\u001b[1m127/127\u001b[0m \u001b[32m━━━━━━━━━━━━━━━━━━━━\u001b[0m\u001b[37m\u001b[0m \u001b[1m9s\u001b[0m 68ms/step - loss: 0.0098 - val_loss: 0.1227\n",
      "processed 9843 tokens\n",
      "True Positive: 148, False Positive: 83, False Negative: 212\n",
      "Weighted Precision: 0.7219394167923578\n",
      "Weighted Recall: 0.41111111111111115\n",
      "Weighted F1: 0.5036076511536635\n",
      "Micro F5: 0.41685624526053516\n",
      "{'Model Description': 'NER Transformer With One LSTM', 'Sample Random State': 72, 'Epochs': 10, 'embed_dim': 32, 'Num Transformer Heads': 1, 'ff_dim': 64, 'Batch Size': 16}\n",
      "Epoch 1/10\n"
     ]
    },
    {
     "name": "stderr",
     "output_type": "stream",
     "text": [
      "2024-05-21 22:22:31.331364: W tensorflow/core/framework/local_rendezvous.cc:404] Local rendezvous is aborting with status: OUT_OF_RANGE: End of sequence\n"
     ]
    },
    {
     "name": "stdout",
     "output_type": "stream",
     "text": [
      "\u001b[1m127/127\u001b[0m \u001b[32m━━━━━━━━━━━━━━━━━━━━\u001b[0m\u001b[37m\u001b[0m \u001b[1m53s\u001b[0m 307ms/step - loss: 0.5281 - val_loss: 0.1573\n",
      "Epoch 2/10\n",
      "\u001b[1m127/127\u001b[0m \u001b[32m━━━━━━━━━━━━━━━━━━━━\u001b[0m\u001b[37m\u001b[0m \u001b[1m8s\u001b[0m 61ms/step - loss: 0.1210 - val_loss: 0.1458\n",
      "Epoch 3/10\n",
      "\u001b[1m127/127\u001b[0m \u001b[32m━━━━━━━━━━━━━━━━━━━━\u001b[0m\u001b[37m\u001b[0m \u001b[1m7s\u001b[0m 58ms/step - loss: 0.0434 - val_loss: 0.1225\n",
      "Epoch 4/10\n",
      "\u001b[1m127/127\u001b[0m \u001b[32m━━━━━━━━━━━━━━━━━━━━\u001b[0m\u001b[37m\u001b[0m \u001b[1m7s\u001b[0m 57ms/step - loss: 0.0178 - val_loss: 0.1249\n",
      "Epoch 5/10\n",
      "\u001b[1m127/127\u001b[0m \u001b[32m━━━━━━━━━━━━━━━━━━━━\u001b[0m\u001b[37m\u001b[0m \u001b[1m8s\u001b[0m 61ms/step - loss: 0.0093 - val_loss: 0.1237\n",
      "processed 9843 tokens\n",
      "True Positive: 200, False Positive: 135, False Negative: 160\n",
      "Weighted Precision: 0.604935262457129\n",
      "Weighted Recall: 0.5555555555555556\n",
      "Weighted F1: 0.5422346345278937\n",
      "Micro F5: 0.5570433851098018\n",
      "{'Model Description': 'NER Transformer With One LSTM', 'Sample Random State': 72, 'Epochs': 10, 'embed_dim': 32, 'Num Transformer Heads': 1, 'ff_dim': 48, 'Batch Size': 16}\n",
      "Epoch 1/10\n"
     ]
    },
    {
     "name": "stderr",
     "output_type": "stream",
     "text": [
      "2024-05-21 22:23:58.364136: W tensorflow/core/framework/local_rendezvous.cc:404] Local rendezvous is aborting with status: OUT_OF_RANGE: End of sequence\n"
     ]
    },
    {
     "name": "stdout",
     "output_type": "stream",
     "text": [
      "\u001b[1m127/127\u001b[0m \u001b[32m━━━━━━━━━━━━━━━━━━━━\u001b[0m\u001b[37m\u001b[0m \u001b[1m55s\u001b[0m 330ms/step - loss: 0.6809 - val_loss: 0.1795\n",
      "Epoch 2/10\n",
      "\u001b[1m127/127\u001b[0m \u001b[32m━━━━━━━━━━━━━━━━━━━━\u001b[0m\u001b[37m\u001b[0m \u001b[1m10s\u001b[0m 80ms/step - loss: 0.1512 - val_loss: 0.1565\n",
      "Epoch 3/10\n",
      "\u001b[1m127/127\u001b[0m \u001b[32m━━━━━━━━━━━━━━━━━━━━\u001b[0m\u001b[37m\u001b[0m \u001b[1m8s\u001b[0m 63ms/step - loss: 0.0544 - val_loss: 0.1188\n",
      "Epoch 4/10\n",
      "\u001b[1m127/127\u001b[0m \u001b[32m━━━━━━━━━━━━━━━━━━━━\u001b[0m\u001b[37m\u001b[0m \u001b[1m8s\u001b[0m 61ms/step - loss: 0.0223 - val_loss: 0.1053\n",
      "Epoch 5/10\n",
      "\u001b[1m127/127\u001b[0m \u001b[32m━━━━━━━━━━━━━━━━━━━━\u001b[0m\u001b[37m\u001b[0m \u001b[1m7s\u001b[0m 59ms/step - loss: 0.0132 - val_loss: 0.1439\n",
      "Epoch 6/10\n",
      "\u001b[1m127/127\u001b[0m \u001b[32m━━━━━━━━━━━━━━━━━━━━\u001b[0m\u001b[37m\u001b[0m \u001b[1m8s\u001b[0m 65ms/step - loss: 0.0073 - val_loss: 0.1390\n",
      "processed 9843 tokens\n",
      "True Positive: 153, False Positive: 67, False Negative: 207\n",
      "Weighted Precision: 0.7538227323449703\n",
      "Weighted Recall: 0.42499999999999993\n",
      "Weighted F1: 0.49893210546250344\n",
      "Micro F5: 0.4314533622559653\n",
      "{'Model Description': 'NER Transformer With One LSTM', 'Sample Random State': 72, 'Epochs': 10, 'embed_dim': 32, 'Num Transformer Heads': 1, 'ff_dim': 48, 'Batch Size': 16}\n",
      "Epoch 1/10\n"
     ]
    },
    {
     "name": "stderr",
     "output_type": "stream",
     "text": [
      "2024-05-21 22:25:39.994486: W tensorflow/core/framework/local_rendezvous.cc:404] Local rendezvous is aborting with status: OUT_OF_RANGE: End of sequence\n"
     ]
    },
    {
     "name": "stdout",
     "output_type": "stream",
     "text": [
      "\u001b[1m127/127\u001b[0m \u001b[32m━━━━━━━━━━━━━━━━━━━━\u001b[0m\u001b[37m\u001b[0m \u001b[1m52s\u001b[0m 304ms/step - loss: 0.7275 - val_loss: 0.1732\n",
      "Epoch 2/10\n",
      "\u001b[1m127/127\u001b[0m \u001b[32m━━━━━━━━━━━━━━━━━━━━\u001b[0m\u001b[37m\u001b[0m \u001b[1m8s\u001b[0m 65ms/step - loss: 0.1373 - val_loss: 0.1384\n",
      "Epoch 3/10\n",
      "\u001b[1m127/127\u001b[0m \u001b[32m━━━━━━━━━━━━━━━━━━━━\u001b[0m\u001b[37m\u001b[0m \u001b[1m7s\u001b[0m 57ms/step - loss: 0.0504 - val_loss: 0.1198\n",
      "Epoch 4/10\n",
      "\u001b[1m127/127\u001b[0m \u001b[32m━━━━━━━━━━━━━━━━━━━━\u001b[0m\u001b[37m\u001b[0m \u001b[1m7s\u001b[0m 58ms/step - loss: 0.0222 - val_loss: 0.1311\n",
      "Epoch 5/10\n",
      "\u001b[1m127/127\u001b[0m \u001b[32m━━━━━━━━━━━━━━━━━━━━\u001b[0m\u001b[37m\u001b[0m \u001b[1m7s\u001b[0m 55ms/step - loss: 0.0112 - val_loss: 0.1613\n",
      "processed 9843 tokens\n",
      "True Positive: 134, False Positive: 43, False Negative: 226\n",
      "Weighted Precision: 0.8051892995570321\n",
      "Weighted Recall: 0.37222222222222223\n",
      "Weighted F1: 0.4938621449281574\n",
      "Micro F5: 0.37964476408412334\n",
      "{'Model Description': 'NER Transformer With One LSTM', 'Sample Random State': 72, 'Epochs': 10, 'embed_dim': 32, 'Num Transformer Heads': 1, 'ff_dim': 48, 'Batch Size': 16}\n",
      "Epoch 1/10\n"
     ]
    },
    {
     "name": "stderr",
     "output_type": "stream",
     "text": [
      "2024-05-21 22:27:06.839634: W tensorflow/core/framework/local_rendezvous.cc:404] Local rendezvous is aborting with status: OUT_OF_RANGE: End of sequence\n"
     ]
    },
    {
     "name": "stdout",
     "output_type": "stream",
     "text": [
      "\u001b[1m127/127\u001b[0m \u001b[32m━━━━━━━━━━━━━━━━━━━━\u001b[0m\u001b[37m\u001b[0m \u001b[1m52s\u001b[0m 315ms/step - loss: 0.7175 - val_loss: 0.1735\n",
      "Epoch 2/10\n",
      "\u001b[1m127/127\u001b[0m \u001b[32m━━━━━━━━━━━━━━━━━━━━\u001b[0m\u001b[37m\u001b[0m \u001b[1m8s\u001b[0m 67ms/step - loss: 0.1478 - val_loss: 0.1492\n",
      "Epoch 3/10\n",
      "\u001b[1m127/127\u001b[0m \u001b[32m━━━━━━━━━━━━━━━━━━━━\u001b[0m\u001b[37m\u001b[0m \u001b[1m9s\u001b[0m 70ms/step - loss: 0.0534 - val_loss: 0.1147\n",
      "Epoch 4/10\n",
      "\u001b[1m127/127\u001b[0m \u001b[32m━━━━━━━━━━━━━━━━━━━━\u001b[0m\u001b[37m\u001b[0m \u001b[1m9s\u001b[0m 68ms/step - loss: 0.0229 - val_loss: 0.1537\n",
      "Epoch 5/10\n",
      "\u001b[1m127/127\u001b[0m \u001b[32m━━━━━━━━━━━━━━━━━━━━\u001b[0m\u001b[37m\u001b[0m \u001b[1m8s\u001b[0m 64ms/step - loss: 0.0112 - val_loss: 0.1435\n",
      "processed 9843 tokens\n",
      "True Positive: 145, False Positive: 69, False Negative: 215\n",
      "Weighted Precision: 0.6495169082125604\n",
      "Weighted Recall: 0.4027777777777778\n",
      "Weighted F1: 0.4894119937694704\n",
      "Micro F5: 0.4091599739526807\n"
     ]
    },
    {
     "name": "stderr",
     "output_type": "stream",
     "text": [
      "2024-05-21 22:28:38.801278: W tensorflow/core/framework/local_rendezvous.cc:404] Local rendezvous is aborting with status: OUT_OF_RANGE: End of sequence\n"
     ]
    }
   ],
   "source": [
    "batch = 16\n",
    "train_dataset, val_dataset = get_training_data(X,y,state = params['Sample Random State'], batch_size = batch)\n",
    "num = 1\n",
    "\n",
    "for (embed_dim, ff_dim) in list(dim_combos):\n",
    "    for i in range(3):\n",
    "\n",
    "        r = {'Model Description' : 'NER Transformer With One LSTM',\n",
    "                'Sample Random State' : params['Sample Random State'],\n",
    "                 'Epochs' : 10,\n",
    "                 'embed_dim' : embed_dim,\n",
    "                 'Num Transformer Heads' : num,\n",
    "                 'ff_dim' : ff_dim,\n",
    "                 'Batch Size' : batch}\n",
    "\n",
    "        print(r)\n",
    "        early_stopping = tf.keras.callbacks.EarlyStopping(mode = 'min', patience = 2)\n",
    "        ner_model = NERModelWithOneLSTM(num_tags, \n",
    "                                              vocab_size, \n",
    "                                              embed_dim=r['embed_dim'], \n",
    "                                              num_heads=r['Num Transformer Heads'], \n",
    "                                              ff_dim=r['ff_dim'])\n",
    "        ner_model.compile(optimizer='adam',loss=loss)\n",
    "        ner_model.fit(train_dataset, epochs=r['Epochs'],validation_data = val_dataset,callbacks = early_stopping)\n",
    "        tmp_results, record_dict = calculate_metrics(val_dataset, ner_model)\n",
    "        r.update({'Dataset Type': 'validation'})\n",
    "        r.update(record_dict)\n",
    "        results_df.add_record(r)\n",
    "        results_df.to_csv(FILE)\n",
    "        results_list.append(tmp_results)\n",
    "        pd.concat(results_list,axis = 0,ignore_index=True).to_csv(RESULTS)\n",
    "        micro_f5 = record_dict['Micro F5']\n",
    "        if micro_f5 > 0.7:\n",
    "            test_dataset = get_test_data(train.loc[train.document.isin(list(df1.loc[list(test_doc_ids),:].document)), 'tokens'],\n",
    "                             train.loc[train.document.isin(list(df1.loc[list(test_doc_ids),:].document)),'labels'], batch)\n",
    "            tmp2_results, record_dict = calculate_metrics(test_dataset, ner_model)\n",
    "            r.update({'Dataset Type': 'test'})\n",
    "            r.update(record_dict)\n",
    "            results_df.add_record(r)\n",
    "            results_df.to_csv(FILE)\n",
    "            results_list.append(tmp2_results)\n",
    "            pd.concat(results_list,axis = 0,ignore_index=True).to_csv(RESULTs)"
   ]
  },
  {
   "cell_type": "code",
   "execution_count": null,
   "id": "7d63c764-a76c-47fd-a5b3-6f3347c736aa",
   "metadata": {
    "scrolled": true
   },
   "outputs": [
    {
     "name": "stdout",
     "output_type": "stream",
     "text": [
      "{'Model Description': 'NER Transformer With One LSTM', 'Sample Random State': 72, 'Epochs': 5, 'embed_dim': 24, 'Num Transformer Heads': 2, 'ff_dim': 96, 'Batch Size': 16}\n",
      "Epoch 1/5\n",
      "\u001b[1m127/127\u001b[0m \u001b[32m━━━━━━━━━━━━━━━━━━━━\u001b[0m\u001b[37m\u001b[0m \u001b[1m43s\u001b[0m 230ms/step - loss: 0.5676\n",
      "Epoch 2/5\n",
      "\u001b[1m127/127\u001b[0m \u001b[32m━━━━━━━━━━━━━━━━━━━━\u001b[0m\u001b[37m\u001b[0m \u001b[1m7s\u001b[0m 53ms/step - loss: 0.1215\n",
      "Epoch 3/5\n",
      "\u001b[1m127/127\u001b[0m \u001b[32m━━━━━━━━━━━━━━━━━━━━\u001b[0m\u001b[37m\u001b[0m \u001b[1m6s\u001b[0m 50ms/step - loss: 0.0468\n",
      "Epoch 4/5\n",
      "\u001b[1m127/127\u001b[0m \u001b[32m━━━━━━━━━━━━━━━━━━━━\u001b[0m\u001b[37m\u001b[0m \u001b[1m6s\u001b[0m 51ms/step - loss: 0.0181\n",
      "Epoch 5/5\n",
      "\u001b[1m127/127\u001b[0m \u001b[32m━━━━━━━━━━━━━━━━━━━━\u001b[0m\u001b[37m\u001b[0m \u001b[1m7s\u001b[0m 54ms/step - loss: 0.0099\n",
      "processed 9843 tokens\n",
      "True Positive: 229, False Positive: 132, False Negative: 131\n",
      "Weighted Precision: 0.6709186322504079\n",
      "Weighted Recall: 0.6361111111111111\n",
      "Weighted F1: 0.6434298941870492\n",
      "Micro F5: 0.6360431577822883\n",
      "{'Model Description': 'NER Transformer With One LSTM', 'Sample Random State': 72, 'Epochs': 5, 'embed_dim': 24, 'Num Transformer Heads': 2, 'ff_dim': 96, 'Batch Size': 16}\n",
      "Epoch 1/5\n"
     ]
    },
    {
     "name": "stderr",
     "output_type": "stream",
     "text": [
      "2024-05-21 11:10:40.015520: W tensorflow/core/framework/local_rendezvous.cc:404] Local rendezvous is aborting with status: OUT_OF_RANGE: End of sequence\n"
     ]
    },
    {
     "name": "stdout",
     "output_type": "stream",
     "text": [
      "\u001b[1m127/127\u001b[0m \u001b[32m━━━━━━━━━━━━━━━━━━━━\u001b[0m\u001b[37m\u001b[0m \u001b[1m44s\u001b[0m 252ms/step - loss: 0.6903\n",
      "Epoch 2/5\n",
      "\u001b[1m127/127\u001b[0m \u001b[32m━━━━━━━━━━━━━━━━━━━━\u001b[0m\u001b[37m\u001b[0m \u001b[1m7s\u001b[0m 54ms/step - loss: 0.1654\n",
      "Epoch 3/5\n",
      "\u001b[1m127/127\u001b[0m \u001b[32m━━━━━━━━━━━━━━━━━━━━\u001b[0m\u001b[37m\u001b[0m \u001b[1m6s\u001b[0m 51ms/step - loss: 0.0578\n",
      "Epoch 4/5\n",
      "\u001b[1m127/127\u001b[0m \u001b[32m━━━━━━━━━━━━━━━━━━━━\u001b[0m\u001b[37m\u001b[0m \u001b[1m7s\u001b[0m 53ms/step - loss: 0.0210\n",
      "Epoch 5/5\n",
      "\u001b[1m127/127\u001b[0m \u001b[32m━━━━━━━━━━━━━━━━━━━━\u001b[0m\u001b[37m\u001b[0m \u001b[1m7s\u001b[0m 53ms/step - loss: 0.0101\n",
      "processed 9843 tokens\n",
      "True Positive: 180, False Positive: 97, False Negative: 180\n",
      "Weighted Precision: 0.6760855094078886\n",
      "Weighted Recall: 0.5\n",
      "Weighted F1: 0.5619142437263984\n",
      "Micro F5: 0.5044734289102081\n",
      "{'Model Description': 'NER Transformer With One LSTM', 'Sample Random State': 72, 'Epochs': 5, 'embed_dim': 24, 'Num Transformer Heads': 2, 'ff_dim': 96, 'Batch Size': 16}\n",
      "Epoch 1/5\n"
     ]
    },
    {
     "name": "stderr",
     "output_type": "stream",
     "text": [
      "2024-05-21 11:11:54.863017: W tensorflow/core/framework/local_rendezvous.cc:404] Local rendezvous is aborting with status: OUT_OF_RANGE: End of sequence\n"
     ]
    },
    {
     "name": "stdout",
     "output_type": "stream",
     "text": [
      "\u001b[1m127/127\u001b[0m \u001b[32m━━━━━━━━━━━━━━━━━━━━\u001b[0m\u001b[37m\u001b[0m \u001b[1m45s\u001b[0m 252ms/step - loss: 0.7521\n",
      "Epoch 2/5\n",
      "\u001b[1m127/127\u001b[0m \u001b[32m━━━━━━━━━━━━━━━━━━━━\u001b[0m\u001b[37m\u001b[0m \u001b[1m8s\u001b[0m 59ms/step - loss: 0.1462\n",
      "Epoch 3/5\n",
      "\u001b[1m127/127\u001b[0m \u001b[32m━━━━━━━━━━━━━━━━━━━━\u001b[0m\u001b[37m\u001b[0m \u001b[1m7s\u001b[0m 54ms/step - loss: 0.0561\n",
      "Epoch 4/5\n",
      "\u001b[1m127/127\u001b[0m \u001b[32m━━━━━━━━━━━━━━━━━━━━\u001b[0m\u001b[37m\u001b[0m \u001b[1m7s\u001b[0m 53ms/step - loss: 0.0207\n",
      "Epoch 5/5\n",
      "\u001b[1m127/127\u001b[0m \u001b[32m━━━━━━━━━━━━━━━━━━━━\u001b[0m\u001b[37m\u001b[0m \u001b[1m7s\u001b[0m 56ms/step - loss: 0.0098\n",
      "processed 9843 tokens\n",
      "True Positive: 200, False Positive: 107, False Negative: 160\n",
      "Weighted Precision: 0.7687041138591526\n",
      "Weighted Recall: 0.5555555555555555\n",
      "Weighted F1: 0.6142327194355598\n",
      "Micro F5: 0.5587192435801009\n",
      "{'Model Description': 'NER Transformer With One LSTM', 'Sample Random State': 72, 'Epochs': 5, 'embed_dim': 24, 'Num Transformer Heads': 2, 'ff_dim': 64, 'Batch Size': 16}\n",
      "Epoch 1/5\n"
     ]
    },
    {
     "name": "stderr",
     "output_type": "stream",
     "text": [
      "2024-05-21 11:13:12.254639: W tensorflow/core/framework/local_rendezvous.cc:404] Local rendezvous is aborting with status: OUT_OF_RANGE: End of sequence\n"
     ]
    },
    {
     "name": "stdout",
     "output_type": "stream",
     "text": [
      "\u001b[1m127/127\u001b[0m \u001b[32m━━━━━━━━━━━━━━━━━━━━\u001b[0m\u001b[37m\u001b[0m \u001b[1m48s\u001b[0m 272ms/step - loss: 0.7223\n",
      "Epoch 2/5\n",
      "\u001b[1m127/127\u001b[0m \u001b[32m━━━━━━━━━━━━━━━━━━━━\u001b[0m\u001b[37m\u001b[0m \u001b[1m7s\u001b[0m 53ms/step - loss: 0.1507\n",
      "Epoch 3/5\n",
      "\u001b[1m127/127\u001b[0m \u001b[32m━━━━━━━━━━━━━━━━━━━━\u001b[0m\u001b[37m\u001b[0m \u001b[1m7s\u001b[0m 54ms/step - loss: 0.0543\n",
      "Epoch 4/5\n",
      "\u001b[1m127/127\u001b[0m \u001b[32m━━━━━━━━━━━━━━━━━━━━\u001b[0m\u001b[37m\u001b[0m \u001b[1m7s\u001b[0m 54ms/step - loss: 0.0210\n",
      "Epoch 5/5\n",
      "\u001b[1m127/127\u001b[0m \u001b[32m━━━━━━━━━━━━━━━━━━━━\u001b[0m\u001b[37m\u001b[0m \u001b[1m7s\u001b[0m 55ms/step - loss: 0.0119\n",
      "processed 9843 tokens\n",
      "True Positive: 192, False Positive: 152, False Negative: 168\n",
      "Weighted Precision: 0.6221801515392359\n",
      "Weighted Recall: 0.5333333333333332\n",
      "Weighted F1: 0.5463748038196566\n",
      "Micro F5: 0.5342465753424658\n",
      "{'Model Description': 'NER Transformer With One LSTM', 'Sample Random State': 72, 'Epochs': 5, 'embed_dim': 24, 'Num Transformer Heads': 2, 'ff_dim': 64, 'Batch Size': 16}\n",
      "Epoch 1/5\n"
     ]
    },
    {
     "name": "stderr",
     "output_type": "stream",
     "text": [
      "2024-05-21 11:14:33.003028: W tensorflow/core/framework/local_rendezvous.cc:404] Local rendezvous is aborting with status: OUT_OF_RANGE: End of sequence\n"
     ]
    },
    {
     "name": "stdout",
     "output_type": "stream",
     "text": [
      "\u001b[1m127/127\u001b[0m \u001b[32m━━━━━━━━━━━━━━━━━━━━\u001b[0m\u001b[37m\u001b[0m \u001b[1m49s\u001b[0m 276ms/step - loss: 0.7340\n",
      "Epoch 2/5\n",
      "\u001b[1m127/127\u001b[0m \u001b[32m━━━━━━━━━━━━━━━━━━━━\u001b[0m\u001b[37m\u001b[0m \u001b[1m7s\u001b[0m 57ms/step - loss: 0.1693\n",
      "Epoch 3/5\n",
      "\u001b[1m127/127\u001b[0m \u001b[32m━━━━━━━━━━━━━━━━━━━━\u001b[0m\u001b[37m\u001b[0m \u001b[1m7s\u001b[0m 58ms/step - loss: 0.0613\n",
      "Epoch 4/5\n",
      "\u001b[1m127/127\u001b[0m \u001b[32m━━━━━━━━━━━━━━━━━━━━\u001b[0m\u001b[37m\u001b[0m \u001b[1m7s\u001b[0m 53ms/step - loss: 0.0204\n",
      "Epoch 5/5\n",
      "\u001b[1m127/127\u001b[0m \u001b[32m━━━━━━━━━━━━━━━━━━━━\u001b[0m\u001b[37m\u001b[0m \u001b[1m6s\u001b[0m 50ms/step - loss: 0.0122\n",
      "processed 9843 tokens\n",
      "True Positive: 163, False Positive: 45, False Negative: 197\n",
      "Weighted Precision: 0.7754600694444443\n",
      "Weighted Recall: 0.4527777777777777\n",
      "Weighted F1: 0.5619010083873625\n",
      "Micro F5: 0.460251954821894\n",
      "{'Model Description': 'NER Transformer With One LSTM', 'Sample Random State': 72, 'Epochs': 5, 'embed_dim': 24, 'Num Transformer Heads': 2, 'ff_dim': 64, 'Batch Size': 16}\n",
      "Epoch 1/5\n"
     ]
    },
    {
     "name": "stderr",
     "output_type": "stream",
     "text": [
      "2024-05-21 11:15:54.058621: W tensorflow/core/framework/local_rendezvous.cc:404] Local rendezvous is aborting with status: OUT_OF_RANGE: End of sequence\n"
     ]
    },
    {
     "name": "stdout",
     "output_type": "stream",
     "text": [
      "\u001b[1m127/127\u001b[0m \u001b[32m━━━━━━━━━━━━━━━━━━━━\u001b[0m\u001b[37m\u001b[0m \u001b[1m50s\u001b[0m 283ms/step - loss: 0.7897\n",
      "Epoch 2/5\n",
      "\u001b[1m127/127\u001b[0m \u001b[32m━━━━━━━━━━━━━━━━━━━━\u001b[0m\u001b[37m\u001b[0m \u001b[1m7s\u001b[0m 53ms/step - loss: 0.1780\n",
      "Epoch 3/5\n",
      "\u001b[1m127/127\u001b[0m \u001b[32m━━━━━━━━━━━━━━━━━━━━\u001b[0m\u001b[37m\u001b[0m \u001b[1m7s\u001b[0m 53ms/step - loss: 0.0686\n",
      "Epoch 4/5\n",
      "\u001b[1m127/127\u001b[0m \u001b[32m━━━━━━━━━━━━━━━━━━━━\u001b[0m\u001b[37m\u001b[0m \u001b[1m7s\u001b[0m 57ms/step - loss: 0.0266\n",
      "Epoch 5/5\n",
      "\u001b[1m127/127\u001b[0m \u001b[32m━━━━━━━━━━━━━━━━━━━━\u001b[0m\u001b[37m\u001b[0m \u001b[1m6s\u001b[0m 49ms/step - loss: 0.0123\n",
      "processed 9843 tokens\n",
      "True Positive: 218, False Positive: 323, False Negative: 142\n",
      "Weighted Precision: 0.5504476047524954\n",
      "Weighted Recall: 0.6055555555555555\n",
      "Weighted F1: 0.4907828330304359\n",
      "Micro F5: 0.5940677077874437\n",
      "{'Model Description': 'NER Transformer With One LSTM', 'Sample Random State': 72, 'Epochs': 5, 'embed_dim': 24, 'Num Transformer Heads': 2, 'ff_dim': 48, 'Batch Size': 16}\n",
      "Epoch 1/5\n"
     ]
    },
    {
     "name": "stderr",
     "output_type": "stream",
     "text": [
      "2024-05-21 11:17:15.981688: W tensorflow/core/framework/local_rendezvous.cc:404] Local rendezvous is aborting with status: OUT_OF_RANGE: End of sequence\n"
     ]
    },
    {
     "name": "stdout",
     "output_type": "stream",
     "text": [
      "\u001b[1m127/127\u001b[0m \u001b[32m━━━━━━━━━━━━━━━━━━━━\u001b[0m\u001b[37m\u001b[0m \u001b[1m56s\u001b[0m 324ms/step - loss: 0.6668\n",
      "Epoch 2/5\n",
      "\u001b[1m127/127\u001b[0m \u001b[32m━━━━━━━━━━━━━━━━━━━━\u001b[0m\u001b[37m\u001b[0m \u001b[1m7s\u001b[0m 56ms/step - loss: 0.1433\n",
      "Epoch 3/5\n",
      "\u001b[1m127/127\u001b[0m \u001b[32m━━━━━━━━━━━━━━━━━━━━\u001b[0m\u001b[37m\u001b[0m \u001b[1m6s\u001b[0m 50ms/step - loss: 0.0580\n",
      "Epoch 4/5\n",
      "\u001b[1m127/127\u001b[0m \u001b[32m━━━━━━━━━━━━━━━━━━━━\u001b[0m\u001b[37m\u001b[0m \u001b[1m7s\u001b[0m 54ms/step - loss: 0.0257\n",
      "Epoch 5/5\n",
      "\u001b[1m127/127\u001b[0m \u001b[32m━━━━━━━━━━━━━━━━━━━━\u001b[0m\u001b[37m\u001b[0m \u001b[1m7s\u001b[0m 54ms/step - loss: 0.0136\n",
      "processed 9843 tokens\n",
      "True Positive: 180, False Positive: 107, False Negative: 180\n",
      "Weighted Precision: 0.6815900713294077\n",
      "Weighted Recall: 0.49999999999999994\n",
      "Weighted F1: 0.537468736786473\n",
      "Micro F5: 0.5039302250457629\n",
      "{'Model Description': 'NER Transformer With One LSTM', 'Sample Random State': 72, 'Epochs': 5, 'embed_dim': 24, 'Num Transformer Heads': 2, 'ff_dim': 48, 'Batch Size': 16}\n",
      "Epoch 1/5\n"
     ]
    },
    {
     "name": "stderr",
     "output_type": "stream",
     "text": [
      "2024-05-21 11:18:43.830636: W tensorflow/core/framework/local_rendezvous.cc:404] Local rendezvous is aborting with status: OUT_OF_RANGE: End of sequence\n"
     ]
    },
    {
     "name": "stdout",
     "output_type": "stream",
     "text": [
      "\u001b[1m127/127\u001b[0m \u001b[32m━━━━━━━━━━━━━━━━━━━━\u001b[0m\u001b[37m\u001b[0m \u001b[1m55s\u001b[0m 317ms/step - loss: 0.6378\n",
      "Epoch 2/5\n",
      "\u001b[1m127/127\u001b[0m \u001b[32m━━━━━━━━━━━━━━━━━━━━\u001b[0m\u001b[37m\u001b[0m \u001b[1m7s\u001b[0m 57ms/step - loss: 0.1781\n",
      "Epoch 3/5\n",
      "\u001b[1m127/127\u001b[0m \u001b[32m━━━━━━━━━━━━━━━━━━━━\u001b[0m\u001b[37m\u001b[0m \u001b[1m7s\u001b[0m 55ms/step - loss: 0.0680\n",
      "Epoch 4/5\n",
      "\u001b[1m127/127\u001b[0m \u001b[32m━━━━━━━━━━━━━━━━━━━━\u001b[0m\u001b[37m\u001b[0m \u001b[1m7s\u001b[0m 54ms/step - loss: 0.0265\n",
      "Epoch 5/5\n",
      "\u001b[1m127/127\u001b[0m \u001b[32m━━━━━━━━━━━━━━━━━━━━\u001b[0m\u001b[37m\u001b[0m \u001b[1m7s\u001b[0m 55ms/step - loss: 0.0138\n",
      "processed 9843 tokens\n",
      "True Positive: 203, False Positive: 108, False Negative: 157\n",
      "Weighted Precision: 0.6527538574651519\n",
      "Weighted Recall: 0.5638888888888889\n",
      "Weighted F1: 0.5960616561981084\n",
      "Micro F5: 0.5668564064010311\n",
      "{'Model Description': 'NER Transformer With One LSTM', 'Sample Random State': 72, 'Epochs': 5, 'embed_dim': 24, 'Num Transformer Heads': 2, 'ff_dim': 48, 'Batch Size': 16}\n",
      "Epoch 1/5\n"
     ]
    },
    {
     "name": "stderr",
     "output_type": "stream",
     "text": [
      "2024-05-21 11:20:11.140042: W tensorflow/core/framework/local_rendezvous.cc:404] Local rendezvous is aborting with status: OUT_OF_RANGE: End of sequence\n"
     ]
    },
    {
     "name": "stdout",
     "output_type": "stream",
     "text": [
      "\u001b[1m127/127\u001b[0m \u001b[32m━━━━━━━━━━━━━━━━━━━━\u001b[0m\u001b[37m\u001b[0m \u001b[1m56s\u001b[0m 318ms/step - loss: 0.7580\n",
      "Epoch 2/5\n",
      "\u001b[1m127/127\u001b[0m \u001b[32m━━━━━━━━━━━━━━━━━━━━\u001b[0m\u001b[37m\u001b[0m \u001b[1m7s\u001b[0m 57ms/step - loss: 0.1617\n",
      "Epoch 3/5\n",
      "\u001b[1m127/127\u001b[0m \u001b[32m━━━━━━━━━━━━━━━━━━━━\u001b[0m\u001b[37m\u001b[0m \u001b[1m7s\u001b[0m 55ms/step - loss: 0.0662\n",
      "Epoch 4/5\n",
      "\u001b[1m127/127\u001b[0m \u001b[32m━━━━━━━━━━━━━━━━━━━━\u001b[0m\u001b[37m\u001b[0m \u001b[1m7s\u001b[0m 56ms/step - loss: 0.0257\n",
      "Epoch 5/5\n",
      "\u001b[1m127/127\u001b[0m \u001b[32m━━━━━━━━━━━━━━━━━━━━\u001b[0m\u001b[37m\u001b[0m \u001b[1m7s\u001b[0m 56ms/step - loss: 0.0137\n",
      "processed 9843 tokens\n",
      "True Positive: 165, False Positive: 92, False Negative: 195\n",
      "Weighted Precision: 0.6832103208709354\n",
      "Weighted Recall: 0.4583333333333333\n",
      "Weighted F1: 0.5253122517930722\n",
      "Micro F5: 0.4634330776709517\n",
      "{'Model Description': 'NER Transformer With One LSTM', 'Sample Random State': 72, 'Epochs': 5, 'embed_dim': 24, 'Num Transformer Heads': 2, 'ff_dim': 32, 'Batch Size': 16}\n",
      "Epoch 1/5\n"
     ]
    },
    {
     "name": "stderr",
     "output_type": "stream",
     "text": [
      "2024-05-21 11:21:40.182510: W tensorflow/core/framework/local_rendezvous.cc:404] Local rendezvous is aborting with status: OUT_OF_RANGE: End of sequence\n"
     ]
    },
    {
     "name": "stdout",
     "output_type": "stream",
     "text": [
      "\u001b[1m127/127\u001b[0m \u001b[32m━━━━━━━━━━━━━━━━━━━━\u001b[0m\u001b[37m\u001b[0m \u001b[1m54s\u001b[0m 299ms/step - loss: 0.8382\n",
      "Epoch 2/5\n",
      "\u001b[1m127/127\u001b[0m \u001b[32m━━━━━━━━━━━━━━━━━━━━\u001b[0m\u001b[37m\u001b[0m \u001b[1m9s\u001b[0m 67ms/step - loss: 0.1945\n",
      "Epoch 3/5\n",
      "\u001b[1m127/127\u001b[0m \u001b[32m━━━━━━━━━━━━━━━━━━━━\u001b[0m\u001b[37m\u001b[0m \u001b[1m8s\u001b[0m 60ms/step - loss: 0.0891\n",
      "Epoch 4/5\n",
      "\u001b[1m127/127\u001b[0m \u001b[32m━━━━━━━━━━━━━━━━━━━━\u001b[0m\u001b[37m\u001b[0m \u001b[1m7s\u001b[0m 52ms/step - loss: 0.0381\n",
      "Epoch 5/5\n",
      "\u001b[1m127/127\u001b[0m \u001b[32m━━━━━━━━━━━━━━━━━━━━\u001b[0m\u001b[37m\u001b[0m \u001b[1m6s\u001b[0m 51ms/step - loss: 0.0207\n",
      "processed 9843 tokens\n",
      "True Positive: 168, False Positive: 150, False Negative: 192\n",
      "Weighted Precision: 0.5206089843344746\n",
      "Weighted Recall: 0.4666666666666667\n",
      "Weighted F1: 0.48326259196378046\n",
      "Micro F5: 0.4687701223438506\n",
      "{'Model Description': 'NER Transformer With One LSTM', 'Sample Random State': 72, 'Epochs': 5, 'embed_dim': 24, 'Num Transformer Heads': 2, 'ff_dim': 32, 'Batch Size': 16}\n",
      "Epoch 1/5\n"
     ]
    },
    {
     "name": "stderr",
     "output_type": "stream",
     "text": [
      "2024-05-21 11:23:08.285937: W tensorflow/core/framework/local_rendezvous.cc:404] Local rendezvous is aborting with status: OUT_OF_RANGE: End of sequence\n"
     ]
    },
    {
     "name": "stdout",
     "output_type": "stream",
     "text": [
      "\u001b[1m127/127\u001b[0m \u001b[32m━━━━━━━━━━━━━━━━━━━━\u001b[0m\u001b[37m\u001b[0m \u001b[1m56s\u001b[0m 318ms/step - loss: 0.9349\n",
      "Epoch 2/5\n",
      "\u001b[1m127/127\u001b[0m \u001b[32m━━━━━━━━━━━━━━━━━━━━\u001b[0m\u001b[37m\u001b[0m \u001b[1m7s\u001b[0m 57ms/step - loss: 0.1405\n",
      "Epoch 3/5\n",
      "\u001b[1m127/127\u001b[0m \u001b[32m━━━━━━━━━━━━━━━━━━━━\u001b[0m\u001b[37m\u001b[0m \u001b[1m7s\u001b[0m 57ms/step - loss: 0.0589\n",
      "Epoch 4/5\n",
      "\u001b[1m127/127\u001b[0m \u001b[32m━━━━━━━━━━━━━━━━━━━━\u001b[0m\u001b[37m\u001b[0m \u001b[1m7s\u001b[0m 58ms/step - loss: 0.0283\n",
      "Epoch 5/5\n",
      "\u001b[1m127/127\u001b[0m \u001b[32m━━━━━━━━━━━━━━━━━━━━\u001b[0m\u001b[37m\u001b[0m \u001b[1m7s\u001b[0m 54ms/step - loss: 0.0162\n",
      "processed 9843 tokens\n",
      "True Positive: 177, False Positive: 137, False Negative: 183\n",
      "Weighted Precision: 0.6007578821482932\n",
      "Weighted Recall: 0.4916666666666667\n",
      "Weighted F1: 0.5149252363125105\n",
      "Micro F5: 0.49409491088683705\n",
      "{'Model Description': 'NER Transformer With One LSTM', 'Sample Random State': 72, 'Epochs': 5, 'embed_dim': 24, 'Num Transformer Heads': 2, 'ff_dim': 32, 'Batch Size': 16}\n",
      "Epoch 1/5\n"
     ]
    },
    {
     "name": "stderr",
     "output_type": "stream",
     "text": [
      "2024-05-21 11:24:38.788288: W tensorflow/core/framework/local_rendezvous.cc:404] Local rendezvous is aborting with status: OUT_OF_RANGE: End of sequence\n"
     ]
    },
    {
     "name": "stdout",
     "output_type": "stream",
     "text": [
      "\u001b[1m127/127\u001b[0m \u001b[32m━━━━━━━━━━━━━━━━━━━━\u001b[0m\u001b[37m\u001b[0m \u001b[1m59s\u001b[0m 336ms/step - loss: 1.0113\n",
      "Epoch 2/5\n",
      "\u001b[1m127/127\u001b[0m \u001b[32m━━━━━━━━━━━━━━━━━━━━\u001b[0m\u001b[37m\u001b[0m \u001b[1m8s\u001b[0m 59ms/step - loss: 0.2024\n",
      "Epoch 3/5\n",
      "\u001b[1m127/127\u001b[0m \u001b[32m━━━━━━━━━━━━━━━━━━━━\u001b[0m\u001b[37m\u001b[0m \u001b[1m7s\u001b[0m 55ms/step - loss: 0.1112\n",
      "Epoch 4/5\n",
      "\u001b[1m127/127\u001b[0m \u001b[32m━━━━━━━━━━━━━━━━━━━━\u001b[0m\u001b[37m\u001b[0m \u001b[1m8s\u001b[0m 60ms/step - loss: 0.0488\n",
      "Epoch 5/5\n",
      "\u001b[1m127/127\u001b[0m \u001b[32m━━━━━━━━━━━━━━━━━━━━\u001b[0m\u001b[37m\u001b[0m \u001b[1m7s\u001b[0m 58ms/step - loss: 0.0226\n",
      "processed 9843 tokens\n",
      "True Positive: 139, False Positive: 38, False Negative: 221\n",
      "Weighted Precision: 0.7649060457516339\n",
      "Weighted Recall: 0.3861111111111112\n",
      "Weighted F1: 0.5021015196757771\n",
      "Micro F5: 0.3938106134902474\n",
      "{'Model Description': 'NER Transformer With One LSTM', 'Sample Random State': 72, 'Epochs': 5, 'embed_dim': 64, 'Num Transformer Heads': 2, 'ff_dim': 96, 'Batch Size': 16}\n",
      "Epoch 1/5\n"
     ]
    },
    {
     "name": "stderr",
     "output_type": "stream",
     "text": [
      "2024-05-21 11:26:13.965773: W tensorflow/core/framework/local_rendezvous.cc:404] Local rendezvous is aborting with status: OUT_OF_RANGE: End of sequence\n"
     ]
    },
    {
     "name": "stdout",
     "output_type": "stream",
     "text": [
      "\u001b[1m127/127\u001b[0m \u001b[32m━━━━━━━━━━━━━━━━━━━━\u001b[0m\u001b[37m\u001b[0m \u001b[1m66s\u001b[0m 371ms/step - loss: 0.5587\n",
      "Epoch 2/5\n",
      "\u001b[1m127/127\u001b[0m \u001b[32m━━━━━━━━━━━━━━━━━━━━\u001b[0m\u001b[37m\u001b[0m \u001b[1m8s\u001b[0m 63ms/step - loss: 0.2116\n",
      "Epoch 3/5\n",
      "\u001b[1m127/127\u001b[0m \u001b[32m━━━━━━━━━━━━━━━━━━━━\u001b[0m\u001b[37m\u001b[0m \u001b[1m8s\u001b[0m 62ms/step - loss: 0.2312\n",
      "Epoch 4/5\n",
      "\u001b[1m127/127\u001b[0m \u001b[32m━━━━━━━━━━━━━━━━━━━━\u001b[0m\u001b[37m\u001b[0m \u001b[1m8s\u001b[0m 60ms/step - loss: 0.2220\n",
      "Epoch 5/5\n",
      "\u001b[1m127/127\u001b[0m \u001b[32m━━━━━━━━━━━━━━━━━━━━\u001b[0m\u001b[37m\u001b[0m \u001b[1m8s\u001b[0m 67ms/step - loss: 0.2251\n",
      "processed 9843 tokens\n",
      "True Positive: 0, False Positive: 0, False Negative: 360\n",
      "Weighted Precision: 0.0\n",
      "Weighted Recall: 0.0\n",
      "Weighted F1: 0.0\n",
      "Micro F5: 0.0\n",
      "{'Model Description': 'NER Transformer With One LSTM', 'Sample Random State': 72, 'Epochs': 5, 'embed_dim': 64, 'Num Transformer Heads': 2, 'ff_dim': 96, 'Batch Size': 16}\n",
      "Epoch 1/5\n"
     ]
    },
    {
     "name": "stderr",
     "output_type": "stream",
     "text": [
      "2024-05-21 11:27:57.895560: W tensorflow/core/framework/local_rendezvous.cc:404] Local rendezvous is aborting with status: OUT_OF_RANGE: End of sequence\n"
     ]
    },
    {
     "name": "stdout",
     "output_type": "stream",
     "text": [
      "\u001b[1m127/127\u001b[0m \u001b[32m━━━━━━━━━━━━━━━━━━━━\u001b[0m\u001b[37m\u001b[0m \u001b[1m61s\u001b[0m 355ms/step - loss: 0.5805\n",
      "Epoch 2/5\n",
      "\u001b[1m127/127\u001b[0m \u001b[32m━━━━━━━━━━━━━━━━━━━━\u001b[0m\u001b[37m\u001b[0m \u001b[1m9s\u001b[0m 68ms/step - loss: 0.1047\n",
      "Epoch 3/5\n",
      "\u001b[1m127/127\u001b[0m \u001b[32m━━━━━━━━━━━━━━━━━━━━\u001b[0m\u001b[37m\u001b[0m \u001b[1m8s\u001b[0m 63ms/step - loss: 0.0278\n",
      "Epoch 4/5\n",
      "\u001b[1m127/127\u001b[0m \u001b[32m━━━━━━━━━━━━━━━━━━━━\u001b[0m\u001b[37m\u001b[0m \u001b[1m8s\u001b[0m 64ms/step - loss: 0.0141\n",
      "Epoch 5/5\n",
      "\u001b[1m127/127\u001b[0m \u001b[32m━━━━━━━━━━━━━━━━━━━━\u001b[0m\u001b[37m\u001b[0m \u001b[1m8s\u001b[0m 60ms/step - loss: 0.0066\n",
      "processed 9843 tokens\n",
      "True Positive: 240, False Positive: 95, False Negative: 120\n",
      "Weighted Precision: 0.7804812916009235\n",
      "Weighted Recall: 0.6666666666666666\n",
      "Weighted F1: 0.7170166158657076\n",
      "Micro F5: 0.6684520621317622\n",
      "{'Model Description': 'NER Transformer With One LSTM', 'Sample Random State': 72, 'Epochs': 5, 'embed_dim': 64, 'Num Transformer Heads': 2, 'ff_dim': 96, 'Batch Size': 16}\n",
      "Epoch 1/5\n"
     ]
    },
    {
     "name": "stderr",
     "output_type": "stream",
     "text": [
      "2024-05-21 11:29:37.090131: W tensorflow/core/framework/local_rendezvous.cc:404] Local rendezvous is aborting with status: OUT_OF_RANGE: End of sequence\n"
     ]
    },
    {
     "name": "stdout",
     "output_type": "stream",
     "text": [
      "\u001b[1m127/127\u001b[0m \u001b[32m━━━━━━━━━━━━━━━━━━━━\u001b[0m\u001b[37m\u001b[0m \u001b[1m67s\u001b[0m 357ms/step - loss: 0.5210\n",
      "Epoch 2/5\n",
      "\u001b[1m127/127\u001b[0m \u001b[32m━━━━━━━━━━━━━━━━━━━━\u001b[0m\u001b[37m\u001b[0m \u001b[1m8s\u001b[0m 65ms/step - loss: 0.1125\n",
      "Epoch 3/5\n",
      "\u001b[1m127/127\u001b[0m \u001b[32m━━━━━━━━━━━━━━━━━━━━\u001b[0m\u001b[37m\u001b[0m \u001b[1m8s\u001b[0m 61ms/step - loss: 0.0302\n",
      "Epoch 4/5\n",
      "\u001b[1m127/127\u001b[0m \u001b[32m━━━━━━━━━━━━━━━━━━━━\u001b[0m\u001b[37m\u001b[0m \u001b[1m8s\u001b[0m 64ms/step - loss: 0.0117\n",
      "Epoch 5/5\n",
      "\u001b[1m127/127\u001b[0m \u001b[32m━━━━━━━━━━━━━━━━━━━━\u001b[0m\u001b[37m\u001b[0m \u001b[1m7s\u001b[0m 58ms/step - loss: 0.0058\n",
      "processed 9843 tokens\n",
      "True Positive: 241, False Positive: 105, False Negative: 119\n",
      "Weighted Precision: 0.7396443882212383\n",
      "Weighted Recall: 0.6694444444444444\n",
      "Weighted F1: 0.6705801853703937\n",
      "Micro F5: 0.6704472501604964\n",
      "{'Model Description': 'NER Transformer With One LSTM', 'Sample Random State': 72, 'Epochs': 5, 'embed_dim': 48, 'Num Transformer Heads': 2, 'ff_dim': 96, 'Batch Size': 16}\n",
      "Epoch 1/5\n"
     ]
    },
    {
     "name": "stderr",
     "output_type": "stream",
     "text": [
      "2024-05-21 11:31:21.378790: W tensorflow/core/framework/local_rendezvous.cc:404] Local rendezvous is aborting with status: OUT_OF_RANGE: End of sequence\n"
     ]
    },
    {
     "name": "stdout",
     "output_type": "stream",
     "text": [
      "\u001b[1m127/127\u001b[0m \u001b[32m━━━━━━━━━━━━━━━━━━━━\u001b[0m\u001b[37m\u001b[0m \u001b[1m65s\u001b[0m 371ms/step - loss: 0.5736\n",
      "Epoch 2/5\n",
      "\u001b[1m127/127\u001b[0m \u001b[32m━━━━━━━━━━━━━━━━━━━━\u001b[0m\u001b[37m\u001b[0m \u001b[1m7s\u001b[0m 54ms/step - loss: 0.1260\n",
      "Epoch 3/5\n",
      "\u001b[1m127/127\u001b[0m \u001b[32m━━━━━━━━━━━━━━━━━━━━\u001b[0m\u001b[37m\u001b[0m \u001b[1m7s\u001b[0m 54ms/step - loss: 0.0359\n",
      "Epoch 4/5\n",
      "\u001b[1m127/127\u001b[0m \u001b[32m━━━━━━━━━━━━━━━━━━━━\u001b[0m\u001b[37m\u001b[0m \u001b[1m7s\u001b[0m 54ms/step - loss: 0.0120\n",
      "Epoch 5/5\n",
      "\u001b[1m127/127\u001b[0m \u001b[32m━━━━━━━━━━━━━━━━━━━━\u001b[0m\u001b[37m\u001b[0m \u001b[1m7s\u001b[0m 52ms/step - loss: 0.0051\n",
      "processed 9843 tokens\n",
      "True Positive: 241, False Positive: 121, False Negative: 119\n",
      "Weighted Precision: 0.7031019864540045\n",
      "Weighted Recall: 0.6694444444444443\n",
      "Weighted F1: 0.6723740671157898\n",
      "Micro F5: 0.6693014313180944\n",
      "{'Model Description': 'NER Transformer With One LSTM', 'Sample Random State': 72, 'Epochs': 5, 'embed_dim': 48, 'Num Transformer Heads': 2, 'ff_dim': 96, 'Batch Size': 16}\n",
      "Epoch 1/5\n"
     ]
    },
    {
     "name": "stderr",
     "output_type": "stream",
     "text": [
      "2024-05-21 11:32:58.493330: W tensorflow/core/framework/local_rendezvous.cc:404] Local rendezvous is aborting with status: OUT_OF_RANGE: End of sequence\n"
     ]
    },
    {
     "name": "stdout",
     "output_type": "stream",
     "text": [
      "\u001b[1m127/127\u001b[0m \u001b[32m━━━━━━━━━━━━━━━━━━━━\u001b[0m\u001b[37m\u001b[0m \u001b[1m50s\u001b[0m 280ms/step - loss: 0.6515\n",
      "Epoch 2/5\n",
      "\u001b[1m127/127\u001b[0m \u001b[32m━━━━━━━━━━━━━━━━━━━━\u001b[0m\u001b[37m\u001b[0m \u001b[1m7s\u001b[0m 55ms/step - loss: 0.1573\n",
      "Epoch 3/5\n",
      "\u001b[1m127/127\u001b[0m \u001b[32m━━━━━━━━━━━━━━━━━━━━\u001b[0m\u001b[37m\u001b[0m \u001b[1m6s\u001b[0m 50ms/step - loss: 0.0519\n",
      "Epoch 4/5\n",
      "\u001b[1m127/127\u001b[0m \u001b[32m━━━━━━━━━━━━━━━━━━━━\u001b[0m\u001b[37m\u001b[0m \u001b[1m7s\u001b[0m 54ms/step - loss: 0.0161\n",
      "Epoch 5/5\n",
      "\u001b[1m127/127\u001b[0m \u001b[32m━━━━━━━━━━━━━━━━━━━━\u001b[0m\u001b[37m\u001b[0m \u001b[1m7s\u001b[0m 54ms/step - loss: 0.0078\n",
      "processed 9843 tokens\n",
      "True Positive: 238, False Positive: 123, False Negative: 122\n",
      "Weighted Precision: 0.7479725960432481\n",
      "Weighted Recall: 0.6611111111111111\n",
      "Weighted F1: 0.671644144886697\n",
      "Micro F5: 0.6610404871274437\n",
      "{'Model Description': 'NER Transformer With One LSTM', 'Sample Random State': 72, 'Epochs': 5, 'embed_dim': 48, 'Num Transformer Heads': 2, 'ff_dim': 96, 'Batch Size': 16}\n",
      "Epoch 1/5\n"
     ]
    },
    {
     "name": "stderr",
     "output_type": "stream",
     "text": [
      "2024-05-21 11:34:20.642965: W tensorflow/core/framework/local_rendezvous.cc:404] Local rendezvous is aborting with status: OUT_OF_RANGE: End of sequence\n"
     ]
    },
    {
     "name": "stdout",
     "output_type": "stream",
     "text": [
      "\u001b[1m127/127\u001b[0m \u001b[32m━━━━━━━━━━━━━━━━━━━━\u001b[0m\u001b[37m\u001b[0m \u001b[1m51s\u001b[0m 299ms/step - loss: 0.5629\n",
      "Epoch 2/5\n",
      "\u001b[1m127/127\u001b[0m \u001b[32m━━━━━━━━━━━━━━━━━━━━\u001b[0m\u001b[37m\u001b[0m \u001b[1m7s\u001b[0m 57ms/step - loss: 0.1132\n",
      "Epoch 3/5\n",
      "\u001b[1m127/127\u001b[0m \u001b[32m━━━━━━━━━━━━━━━━━━━━\u001b[0m\u001b[37m\u001b[0m \u001b[1m7s\u001b[0m 54ms/step - loss: 0.0314\n",
      "Epoch 4/5\n",
      "\u001b[1m127/127\u001b[0m \u001b[32m━━━━━━━━━━━━━━━━━━━━\u001b[0m\u001b[37m\u001b[0m \u001b[1m7s\u001b[0m 52ms/step - loss: 0.0122\n",
      "Epoch 5/5\n",
      "\u001b[1m127/127\u001b[0m \u001b[32m━━━━━━━━━━━━━━━━━━━━\u001b[0m\u001b[37m\u001b[0m \u001b[1m7s\u001b[0m 52ms/step - loss: 0.0049\n",
      "processed 9843 tokens\n",
      "True Positive: 205, False Positive: 94, False Negative: 155\n",
      "Weighted Precision: 0.7369923651721898\n",
      "Weighted Recall: 0.5694444444444444\n",
      "Weighted F1: 0.6233285028368662\n",
      "Micro F5: 0.573179911818475\n",
      "{'Model Description': 'NER Transformer With One LSTM', 'Sample Random State': 72, 'Epochs': 5, 'embed_dim': 32, 'Num Transformer Heads': 2, 'ff_dim': 96, 'Batch Size': 16}\n",
      "Epoch 1/5\n"
     ]
    },
    {
     "name": "stderr",
     "output_type": "stream",
     "text": [
      "2024-05-21 11:35:44.003530: W tensorflow/core/framework/local_rendezvous.cc:404] Local rendezvous is aborting with status: OUT_OF_RANGE: End of sequence\n"
     ]
    },
    {
     "name": "stdout",
     "output_type": "stream",
     "text": [
      "\u001b[1m127/127\u001b[0m \u001b[32m━━━━━━━━━━━━━━━━━━━━\u001b[0m\u001b[37m\u001b[0m \u001b[1m58s\u001b[0m 335ms/step - loss: 0.5243\n",
      "Epoch 2/5\n",
      "\u001b[1m127/127\u001b[0m \u001b[32m━━━━━━━━━━━━━━━━━━━━\u001b[0m\u001b[37m\u001b[0m \u001b[1m6s\u001b[0m 49ms/step - loss: 0.1323\n",
      "Epoch 3/5\n",
      "\u001b[1m127/127\u001b[0m \u001b[32m━━━━━━━━━━━━━━━━━━━━\u001b[0m\u001b[37m\u001b[0m \u001b[1m7s\u001b[0m 53ms/step - loss: 0.0438\n",
      "Epoch 4/5\n",
      "\u001b[1m127/127\u001b[0m \u001b[32m━━━━━━━━━━━━━━━━━━━━\u001b[0m\u001b[37m\u001b[0m \u001b[1m7s\u001b[0m 53ms/step - loss: 0.0171\n",
      "Epoch 5/5\n",
      "\u001b[1m127/127\u001b[0m \u001b[32m━━━━━━━━━━━━━━━━━━━━\u001b[0m\u001b[37m\u001b[0m \u001b[1m6s\u001b[0m 51ms/step - loss: 0.0075\n",
      "processed 9843 tokens\n",
      "True Positive: 194, False Positive: 54, False Negative: 166\n",
      "Weighted Precision: 0.7940879691316899\n",
      "Weighted Recall: 0.5388888888888889\n",
      "Weighted F1: 0.6347473546720674\n",
      "Micro F5: 0.5454152249134948\n",
      "{'Model Description': 'NER Transformer With One LSTM', 'Sample Random State': 72, 'Epochs': 5, 'embed_dim': 32, 'Num Transformer Heads': 2, 'ff_dim': 96, 'Batch Size': 16}\n",
      "Epoch 1/5\n"
     ]
    },
    {
     "name": "stderr",
     "output_type": "stream",
     "text": [
      "2024-05-21 11:37:13.745195: W tensorflow/core/framework/local_rendezvous.cc:404] Local rendezvous is aborting with status: OUT_OF_RANGE: End of sequence\n"
     ]
    },
    {
     "name": "stdout",
     "output_type": "stream",
     "text": [
      "\u001b[1m127/127\u001b[0m \u001b[32m━━━━━━━━━━━━━━━━━━━━\u001b[0m\u001b[37m\u001b[0m \u001b[1m58s\u001b[0m 344ms/step - loss: 0.6206\n",
      "Epoch 2/5\n",
      "\u001b[1m127/127\u001b[0m \u001b[32m━━━━━━━━━━━━━━━━━━━━\u001b[0m\u001b[37m\u001b[0m \u001b[1m7s\u001b[0m 55ms/step - loss: 0.1284\n",
      "Epoch 3/5\n",
      "\u001b[1m127/127\u001b[0m \u001b[32m━━━━━━━━━━━━━━━━━━━━\u001b[0m\u001b[37m\u001b[0m \u001b[1m7s\u001b[0m 53ms/step - loss: 0.0434\n",
      "Epoch 4/5\n",
      "\u001b[1m127/127\u001b[0m \u001b[32m━━━━━━━━━━━━━━━━━━━━\u001b[0m\u001b[37m\u001b[0m \u001b[1m7s\u001b[0m 57ms/step - loss: 0.0162\n",
      "Epoch 5/5\n",
      "\u001b[1m127/127\u001b[0m \u001b[32m━━━━━━━━━━━━━━━━━━━━\u001b[0m\u001b[37m\u001b[0m \u001b[1m7s\u001b[0m 53ms/step - loss: 0.0088\n",
      "processed 9843 tokens\n",
      "True Positive: 159, False Positive: 49, False Negative: 201\n",
      "Weighted Precision: 0.7742340067340067\n",
      "Weighted Recall: 0.44166666666666665\n",
      "Weighted F1: 0.545509422631481\n",
      "Micro F5: 0.44895742832319724\n",
      "{'Model Description': 'NER Transformer With One LSTM', 'Sample Random State': 72, 'Epochs': 5, 'embed_dim': 32, 'Num Transformer Heads': 2, 'ff_dim': 96, 'Batch Size': 16}\n",
      "Epoch 1/5\n"
     ]
    },
    {
     "name": "stderr",
     "output_type": "stream",
     "text": [
      "2024-05-21 11:38:45.160980: W tensorflow/core/framework/local_rendezvous.cc:404] Local rendezvous is aborting with status: OUT_OF_RANGE: End of sequence\n"
     ]
    },
    {
     "name": "stdout",
     "output_type": "stream",
     "text": [
      "\u001b[1m127/127\u001b[0m \u001b[32m━━━━━━━━━━━━━━━━━━━━\u001b[0m\u001b[37m\u001b[0m \u001b[1m60s\u001b[0m 365ms/step - loss: 0.5885\n",
      "Epoch 2/5\n",
      "\u001b[1m127/127\u001b[0m \u001b[32m━━━━━━━━━━━━━━━━━━━━\u001b[0m\u001b[37m\u001b[0m \u001b[1m7s\u001b[0m 55ms/step - loss: 0.1193\n",
      "Epoch 3/5\n",
      "\u001b[1m127/127\u001b[0m \u001b[32m━━━━━━━━━━━━━━━━━━━━\u001b[0m\u001b[37m\u001b[0m \u001b[1m7s\u001b[0m 55ms/step - loss: 0.0383\n",
      "Epoch 4/5\n",
      "\u001b[1m127/127\u001b[0m \u001b[32m━━━━━━━━━━━━━━━━━━━━\u001b[0m\u001b[37m\u001b[0m \u001b[1m7s\u001b[0m 56ms/step - loss: 0.0151\n",
      "Epoch 5/5\n",
      "\u001b[1m127/127\u001b[0m \u001b[32m━━━━━━━━━━━━━━━━━━━━\u001b[0m\u001b[37m\u001b[0m \u001b[1m6s\u001b[0m 51ms/step - loss: 0.0084\n",
      "processed 9843 tokens\n",
      "True Positive: 189, False Positive: 70, False Negative: 171\n",
      "Weighted Precision: 0.7474980835539918\n",
      "Weighted Recall: 0.525\n",
      "Weighted F1: 0.5956543425421931\n",
      "Micro F5: 0.5307268603520898\n",
      "{'Model Description': 'NER Transformer With One LSTM', 'Sample Random State': 72, 'Epochs': 5, 'embed_dim': 48, 'Num Transformer Heads': 2, 'ff_dim': 64, 'Batch Size': 16}\n",
      "Epoch 1/5\n"
     ]
    },
    {
     "name": "stderr",
     "output_type": "stream",
     "text": [
      "2024-05-21 11:40:19.869965: W tensorflow/core/framework/local_rendezvous.cc:404] Local rendezvous is aborting with status: OUT_OF_RANGE: End of sequence\n"
     ]
    },
    {
     "name": "stdout",
     "output_type": "stream",
     "text": [
      "\u001b[1m127/127\u001b[0m \u001b[32m━━━━━━━━━━━━━━━━━━━━\u001b[0m\u001b[37m\u001b[0m \u001b[1m171s\u001b[0m 211ms/step - loss: 0.4982\n",
      "Epoch 2/5\n",
      "\u001b[1m127/127\u001b[0m \u001b[32m━━━━━━━━━━━━━━━━━━━━\u001b[0m\u001b[37m\u001b[0m \u001b[1m7s\u001b[0m 51ms/step - loss: 0.1077\n",
      "Epoch 3/5\n",
      "\u001b[1m127/127\u001b[0m \u001b[32m━━━━━━━━━━━━━━━━━━━━\u001b[0m\u001b[37m\u001b[0m \u001b[1m7s\u001b[0m 52ms/step - loss: 0.0377\n",
      "Epoch 4/5\n",
      "\u001b[1m127/127\u001b[0m \u001b[32m━━━━━━━━━━━━━━━━━━━━\u001b[0m\u001b[37m\u001b[0m \u001b[1m7s\u001b[0m 52ms/step - loss: 0.0152\n",
      "Epoch 5/5\n",
      "\u001b[1m127/127\u001b[0m \u001b[32m━━━━━━━━━━━━━━━━━━━━\u001b[0m\u001b[37m\u001b[0m \u001b[1m6s\u001b[0m 49ms/step - loss: 0.0069\n",
      "processed 9843 tokens\n",
      "True Positive: 181, False Positive: 104, False Negative: 179\n",
      "Weighted Precision: 0.803391640866873\n",
      "Weighted Recall: 0.5027777777777778\n",
      "Weighted F1: 0.5959720066888543\n",
      "Micro F5: 0.5068389876144319\n",
      "{'Model Description': 'NER Transformer With One LSTM', 'Sample Random State': 72, 'Epochs': 5, 'embed_dim': 48, 'Num Transformer Heads': 2, 'ff_dim': 64, 'Batch Size': 16}\n",
      "Epoch 1/5\n"
     ]
    },
    {
     "name": "stderr",
     "output_type": "stream",
     "text": [
      "2024-05-21 11:43:39.730251: W tensorflow/core/framework/local_rendezvous.cc:404] Local rendezvous is aborting with status: OUT_OF_RANGE: End of sequence\n"
     ]
    },
    {
     "name": "stdout",
     "output_type": "stream",
     "text": [
      "\u001b[1m127/127\u001b[0m \u001b[32m━━━━━━━━━━━━━━━━━━━━\u001b[0m\u001b[37m\u001b[0m \u001b[1m34s\u001b[0m 206ms/step - loss: 0.4895\n",
      "Epoch 2/5\n",
      "\u001b[1m127/127\u001b[0m \u001b[32m━━━━━━━━━━━━━━━━━━━━\u001b[0m\u001b[37m\u001b[0m \u001b[1m7s\u001b[0m 52ms/step - loss: 0.1173\n",
      "Epoch 3/5\n",
      "\u001b[1m127/127\u001b[0m \u001b[32m━━━━━━━━━━━━━━━━━━━━\u001b[0m\u001b[37m\u001b[0m \u001b[1m7s\u001b[0m 51ms/step - loss: 0.0385\n",
      "Epoch 4/5\n",
      "\u001b[1m127/127\u001b[0m \u001b[32m━━━━━━━━━━━━━━━━━━━━\u001b[0m\u001b[37m\u001b[0m \u001b[1m6s\u001b[0m 50ms/step - loss: 0.0134\n",
      "Epoch 5/5\n",
      "\u001b[1m127/127\u001b[0m \u001b[32m━━━━━━━━━━━━━━━━━━━━\u001b[0m\u001b[37m\u001b[0m \u001b[1m7s\u001b[0m 53ms/step - loss: 0.0066\n",
      "processed 9843 tokens\n",
      "True Positive: 188, False Positive: 157, False Negative: 172\n",
      "Weighted Precision: 0.7251607540144316\n",
      "Weighted Recall: 0.5222222222222221\n",
      "Weighted F1: 0.5848706467167114\n",
      "Micro F5: 0.5230604601391118\n",
      "{'Model Description': 'NER Transformer With One LSTM', 'Sample Random State': 72, 'Epochs': 5, 'embed_dim': 48, 'Num Transformer Heads': 2, 'ff_dim': 64, 'Batch Size': 16}\n",
      "Epoch 1/5\n"
     ]
    },
    {
     "name": "stderr",
     "output_type": "stream",
     "text": [
      "2024-05-21 11:44:43.659424: W tensorflow/core/framework/local_rendezvous.cc:404] Local rendezvous is aborting with status: OUT_OF_RANGE: End of sequence\n"
     ]
    },
    {
     "name": "stdout",
     "output_type": "stream",
     "text": [
      "\u001b[1m127/127\u001b[0m \u001b[32m━━━━━━━━━━━━━━━━━━━━\u001b[0m\u001b[37m\u001b[0m \u001b[1m45s\u001b[0m 284ms/step - loss: 0.4371\n",
      "Epoch 2/5\n",
      "\u001b[1m127/127\u001b[0m \u001b[32m━━━━━━━━━━━━━━━━━━━━\u001b[0m\u001b[37m\u001b[0m \u001b[1m7s\u001b[0m 57ms/step - loss: 0.0901\n",
      "Epoch 3/5\n",
      "\u001b[1m127/127\u001b[0m \u001b[32m━━━━━━━━━━━━━━━━━━━━\u001b[0m\u001b[37m\u001b[0m \u001b[1m7s\u001b[0m 59ms/step - loss: 0.0294\n",
      "Epoch 4/5\n",
      "\u001b[1m127/127\u001b[0m \u001b[32m━━━━━━━━━━━━━━━━━━━━\u001b[0m\u001b[37m\u001b[0m \u001b[1m7s\u001b[0m 59ms/step - loss: 0.0107\n",
      "Epoch 5/5\n",
      "\u001b[1m127/127\u001b[0m \u001b[32m━━━━━━━━━━━━━━━━━━━━\u001b[0m\u001b[37m\u001b[0m \u001b[1m7s\u001b[0m 55ms/step - loss: 0.0054\n",
      "processed 9843 tokens\n",
      "True Positive: 153, False Positive: 40, False Negative: 207\n",
      "Weighted Precision: 0.7887297453703703\n",
      "Weighted Recall: 0.425\n",
      "Weighted F1: 0.5413443299461705\n",
      "Micro F5: 0.43272054824322853\n",
      "{'Model Description': 'NER Transformer With One LSTM', 'Sample Random State': 72, 'Epochs': 5, 'embed_dim': 32, 'Num Transformer Heads': 2, 'ff_dim': 64, 'Batch Size': 16}\n",
      "Epoch 1/5\n"
     ]
    },
    {
     "name": "stderr",
     "output_type": "stream",
     "text": [
      "2024-05-21 11:46:02.287722: W tensorflow/core/framework/local_rendezvous.cc:404] Local rendezvous is aborting with status: OUT_OF_RANGE: End of sequence\n"
     ]
    },
    {
     "name": "stdout",
     "output_type": "stream",
     "text": [
      "\u001b[1m127/127\u001b[0m \u001b[32m━━━━━━━━━━━━━━━━━━━━\u001b[0m\u001b[37m\u001b[0m \u001b[1m55s\u001b[0m 306ms/step - loss: 0.7609\n",
      "Epoch 2/5\n",
      "\u001b[1m127/127\u001b[0m \u001b[32m━━━━━━━━━━━━━━━━━━━━\u001b[0m\u001b[37m\u001b[0m \u001b[1m7s\u001b[0m 58ms/step - loss: 0.1676\n",
      "Epoch 3/5\n",
      "\u001b[1m127/127\u001b[0m \u001b[32m━━━━━━━━━━━━━━━━━━━━\u001b[0m\u001b[37m\u001b[0m \u001b[1m7s\u001b[0m 57ms/step - loss: 0.0611\n",
      "Epoch 4/5\n",
      "\u001b[1m127/127\u001b[0m \u001b[32m━━━━━━━━━━━━━━━━━━━━\u001b[0m\u001b[37m\u001b[0m \u001b[1m7s\u001b[0m 53ms/step - loss: 0.0222\n",
      "Epoch 5/5\n",
      "\u001b[1m127/127\u001b[0m \u001b[32m━━━━━━━━━━━━━━━━━━━━\u001b[0m\u001b[37m\u001b[0m \u001b[1m7s\u001b[0m 53ms/step - loss: 0.0122\n",
      "processed 9843 tokens\n",
      "True Positive: 187, False Positive: 116, False Negative: 173\n",
      "Weighted Precision: 0.6951140350877193\n",
      "Weighted Recall: 0.5194444444444445\n",
      "Weighted F1: 0.5642380913694587\n",
      "Micro F5: 0.5226271095345587\n",
      "{'Model Description': 'NER Transformer With One LSTM', 'Sample Random State': 72, 'Epochs': 5, 'embed_dim': 32, 'Num Transformer Heads': 2, 'ff_dim': 64, 'Batch Size': 16}\n",
      "Epoch 1/5\n"
     ]
    },
    {
     "name": "stderr",
     "output_type": "stream",
     "text": [
      "2024-05-21 11:47:30.813813: W tensorflow/core/framework/local_rendezvous.cc:404] Local rendezvous is aborting with status: OUT_OF_RANGE: End of sequence\n"
     ]
    },
    {
     "name": "stdout",
     "output_type": "stream",
     "text": [
      "\u001b[1m127/127\u001b[0m \u001b[32m━━━━━━━━━━━━━━━━━━━━\u001b[0m\u001b[37m\u001b[0m \u001b[1m57s\u001b[0m 317ms/step - loss: 0.5256\n",
      "Epoch 2/5\n",
      "\u001b[1m127/127\u001b[0m \u001b[32m━━━━━━━━━━━━━━━━━━━━\u001b[0m\u001b[37m\u001b[0m \u001b[1m8s\u001b[0m 61ms/step - loss: 0.1210\n",
      "Epoch 3/5\n",
      "\u001b[1m127/127\u001b[0m \u001b[32m━━━━━━━━━━━━━━━━━━━━\u001b[0m\u001b[37m\u001b[0m \u001b[1m7s\u001b[0m 55ms/step - loss: 0.0440\n",
      "Epoch 4/5\n",
      "\u001b[1m127/127\u001b[0m \u001b[32m━━━━━━━━━━━━━━━━━━━━\u001b[0m\u001b[37m\u001b[0m \u001b[1m7s\u001b[0m 56ms/step - loss: 0.0179\n",
      "Epoch 5/5\n",
      "\u001b[1m127/127\u001b[0m \u001b[32m━━━━━━━━━━━━━━━━━━━━\u001b[0m\u001b[37m\u001b[0m \u001b[1m7s\u001b[0m 54ms/step - loss: 0.0076\n",
      "processed 9843 tokens\n",
      "True Positive: 171, False Positive: 112, False Negative: 189\n",
      "Weighted Precision: 0.6920606254428705\n",
      "Weighted Recall: 0.47500000000000003\n",
      "Weighted F1: 0.5335900432679078\n",
      "Micro F5: 0.4789399978455241\n",
      "{'Model Description': 'NER Transformer With One LSTM', 'Sample Random State': 72, 'Epochs': 5, 'embed_dim': 32, 'Num Transformer Heads': 2, 'ff_dim': 64, 'Batch Size': 16}\n",
      "Epoch 1/5\n"
     ]
    },
    {
     "name": "stderr",
     "output_type": "stream",
     "text": [
      "2024-05-21 11:49:02.479058: W tensorflow/core/framework/local_rendezvous.cc:404] Local rendezvous is aborting with status: OUT_OF_RANGE: End of sequence\n"
     ]
    },
    {
     "name": "stdout",
     "output_type": "stream",
     "text": [
      "\u001b[1m127/127\u001b[0m \u001b[32m━━━━━━━━━━━━━━━━━━━━\u001b[0m\u001b[37m\u001b[0m \u001b[1m59s\u001b[0m 319ms/step - loss: 0.5633\n",
      "Epoch 2/5\n",
      "\u001b[1m127/127\u001b[0m \u001b[32m━━━━━━━━━━━━━━━━━━━━\u001b[0m\u001b[37m\u001b[0m \u001b[1m8s\u001b[0m 61ms/step - loss: 0.1340\n",
      "Epoch 3/5\n",
      "\u001b[1m127/127\u001b[0m \u001b[32m━━━━━━━━━━━━━━━━━━━━\u001b[0m\u001b[37m\u001b[0m \u001b[1m8s\u001b[0m 65ms/step - loss: 0.0487\n",
      "Epoch 4/5\n",
      "\u001b[1m127/127\u001b[0m \u001b[32m━━━━━━━━━━━━━━━━━━━━\u001b[0m\u001b[37m\u001b[0m \u001b[1m8s\u001b[0m 64ms/step - loss: 0.0201\n",
      "Epoch 5/5\n",
      "\u001b[1m127/127\u001b[0m \u001b[32m━━━━━━━━━━━━━━━━━━━━\u001b[0m\u001b[37m\u001b[0m \u001b[1m7s\u001b[0m 56ms/step - loss: 0.0097\n",
      "processed 9843 tokens\n",
      "True Positive: 175, False Positive: 53, False Negative: 185\n",
      "Weighted Precision: 0.7340199878400973\n",
      "Weighted Recall: 0.4861111111111111\n",
      "Weighted F1: 0.5823076177819407\n",
      "Micro F5: 0.49306458604247944\n",
      "{'Model Description': 'NER Transformer With One LSTM', 'Sample Random State': 72, 'Epochs': 5, 'embed_dim': 32, 'Num Transformer Heads': 2, 'ff_dim': 48, 'Batch Size': 16}\n",
      "Epoch 1/5\n"
     ]
    },
    {
     "name": "stderr",
     "output_type": "stream",
     "text": [
      "2024-05-21 11:50:37.454145: W tensorflow/core/framework/local_rendezvous.cc:404] Local rendezvous is aborting with status: OUT_OF_RANGE: End of sequence\n"
     ]
    },
    {
     "name": "stdout",
     "output_type": "stream",
     "text": [
      "\u001b[1m127/127\u001b[0m \u001b[32m━━━━━━━━━━━━━━━━━━━━\u001b[0m\u001b[37m\u001b[0m \u001b[1m63s\u001b[0m 350ms/step - loss: 0.6518\n",
      "Epoch 2/5\n",
      "\u001b[1m127/127\u001b[0m \u001b[32m━━━━━━━━━━━━━━━━━━━━\u001b[0m\u001b[37m\u001b[0m \u001b[1m7s\u001b[0m 56ms/step - loss: 0.1461\n",
      "Epoch 3/5\n",
      "\u001b[1m127/127\u001b[0m \u001b[32m━━━━━━━━━━━━━━━━━━━━\u001b[0m\u001b[37m\u001b[0m \u001b[1m8s\u001b[0m 59ms/step - loss: 0.0519\n",
      "Epoch 4/5\n",
      "\u001b[1m127/127\u001b[0m \u001b[32m━━━━━━━━━━━━━━━━━━━━\u001b[0m\u001b[37m\u001b[0m \u001b[1m8s\u001b[0m 63ms/step - loss: 0.0223\n",
      "Epoch 5/5\n",
      "\u001b[1m127/127\u001b[0m \u001b[32m━━━━━━━━━━━━━━━━━━━━\u001b[0m\u001b[37m\u001b[0m \u001b[1m8s\u001b[0m 61ms/step - loss: 0.0112\n",
      "processed 9843 tokens\n",
      "True Positive: 188, False Positive: 129, False Negative: 172\n",
      "Weighted Precision: 0.6334939253271634\n",
      "Weighted Recall: 0.5222222222222221\n",
      "Weighted F1: 0.555504933729936\n",
      "Micro F5: 0.5246323924009875\n",
      "{'Model Description': 'NER Transformer With One LSTM', 'Sample Random State': 72, 'Epochs': 5, 'embed_dim': 32, 'Num Transformer Heads': 2, 'ff_dim': 48, 'Batch Size': 16}\n",
      "Epoch 1/5\n"
     ]
    },
    {
     "name": "stderr",
     "output_type": "stream",
     "text": [
      "2024-05-21 11:52:16.606782: W tensorflow/core/framework/local_rendezvous.cc:404] Local rendezvous is aborting with status: OUT_OF_RANGE: End of sequence\n"
     ]
    },
    {
     "name": "stdout",
     "output_type": "stream",
     "text": [
      "\u001b[1m127/127\u001b[0m \u001b[32m━━━━━━━━━━━━━━━━━━━━\u001b[0m\u001b[37m\u001b[0m \u001b[1m62s\u001b[0m 343ms/step - loss: 0.5450\n",
      "Epoch 2/5\n",
      "\u001b[1m127/127\u001b[0m \u001b[32m━━━━━━━━━━━━━━━━━━━━\u001b[0m\u001b[37m\u001b[0m \u001b[1m7s\u001b[0m 58ms/step - loss: 0.1213\n",
      "Epoch 3/5\n",
      "\u001b[1m127/127\u001b[0m \u001b[32m━━━━━━━━━━━━━━━━━━━━\u001b[0m\u001b[37m\u001b[0m \u001b[1m7s\u001b[0m 58ms/step - loss: 0.0430\n",
      "Epoch 4/5\n",
      "\u001b[1m127/127\u001b[0m \u001b[32m━━━━━━━━━━━━━━━━━━━━\u001b[0m\u001b[37m\u001b[0m \u001b[1m8s\u001b[0m 59ms/step - loss: 0.0192\n",
      "Epoch 5/5\n",
      "\u001b[1m127/127\u001b[0m \u001b[32m━━━━━━━━━━━━━━━━━━━━\u001b[0m\u001b[37m\u001b[0m \u001b[1m8s\u001b[0m 65ms/step - loss: 0.0121\n",
      "processed 9843 tokens\n",
      "True Positive: 172, False Positive: 76, False Negative: 188\n",
      "Weighted Precision: 0.7124919508509101\n",
      "Weighted Recall: 0.47777777777777775\n",
      "Weighted F1: 0.5455356085896252\n",
      "Micro F5: 0.4835640138408305\n",
      "{'Model Description': 'NER Transformer With One LSTM', 'Sample Random State': 72, 'Epochs': 5, 'embed_dim': 32, 'Num Transformer Heads': 2, 'ff_dim': 48, 'Batch Size': 16}\n",
      "Epoch 1/5\n"
     ]
    },
    {
     "name": "stderr",
     "output_type": "stream",
     "text": [
      "2024-05-21 11:53:55.742392: W tensorflow/core/framework/local_rendezvous.cc:404] Local rendezvous is aborting with status: OUT_OF_RANGE: End of sequence\n"
     ]
    },
    {
     "name": "stdout",
     "output_type": "stream",
     "text": [
      "\u001b[1m127/127\u001b[0m \u001b[32m━━━━━━━━━━━━━━━━━━━━\u001b[0m\u001b[37m\u001b[0m \u001b[1m63s\u001b[0m 347ms/step - loss: 0.6577\n",
      "Epoch 2/5\n",
      "\u001b[1m127/127\u001b[0m \u001b[32m━━━━━━━━━━━━━━━━━━━━\u001b[0m\u001b[37m\u001b[0m \u001b[1m8s\u001b[0m 60ms/step - loss: 0.1589\n",
      "Epoch 3/5\n",
      "\u001b[1m127/127\u001b[0m \u001b[32m━━━━━━━━━━━━━━━━━━━━\u001b[0m\u001b[37m\u001b[0m \u001b[1m8s\u001b[0m 59ms/step - loss: 0.0582\n",
      "Epoch 4/5\n",
      "\u001b[1m127/127\u001b[0m \u001b[32m━━━━━━━━━━━━━━━━━━━━\u001b[0m\u001b[37m\u001b[0m \u001b[1m8s\u001b[0m 59ms/step - loss: 0.0242\n",
      "Epoch 5/5\n",
      "\u001b[1m127/127\u001b[0m \u001b[32m━━━━━━━━━━━━━━━━━━━━\u001b[0m\u001b[37m\u001b[0m \u001b[1m7s\u001b[0m 56ms/step - loss: 0.0132\n",
      "processed 9843 tokens\n",
      "True Positive: 171, False Positive: 110, False Negative: 189\n",
      "Weighted Precision: 0.6862768440709618\n",
      "Weighted Recall: 0.47500000000000003\n",
      "Weighted F1: 0.4848971513796465\n",
      "Micro F5: 0.47904320655101823\n",
      "{'Model Description': 'NER Transformer With One LSTM', 'Sample Random State': 72, 'Epochs': 5, 'embed_dim': 24, 'Num Transformer Heads': 4, 'ff_dim': 96, 'Batch Size': 16}\n",
      "Epoch 1/5\n"
     ]
    },
    {
     "name": "stderr",
     "output_type": "stream",
     "text": [
      "2024-05-21 11:55:35.389432: W tensorflow/core/framework/local_rendezvous.cc:404] Local rendezvous is aborting with status: OUT_OF_RANGE: End of sequence\n"
     ]
    },
    {
     "name": "stdout",
     "output_type": "stream",
     "text": [
      "\u001b[1m127/127\u001b[0m \u001b[32m━━━━━━━━━━━━━━━━━━━━\u001b[0m\u001b[37m\u001b[0m \u001b[1m65s\u001b[0m 377ms/step - loss: 0.6627\n",
      "Epoch 2/5\n",
      "\u001b[1m127/127\u001b[0m \u001b[32m━━━━━━━━━━━━━━━━━━━━\u001b[0m\u001b[37m\u001b[0m \u001b[1m8s\u001b[0m 62ms/step - loss: 0.1680\n",
      "Epoch 3/5\n",
      "\u001b[1m127/127\u001b[0m \u001b[32m━━━━━━━━━━━━━━━━━━━━\u001b[0m\u001b[37m\u001b[0m \u001b[1m7s\u001b[0m 58ms/step - loss: 0.0613\n",
      "Epoch 4/5\n",
      "\u001b[1m127/127\u001b[0m \u001b[32m━━━━━━━━━━━━━━━━━━━━\u001b[0m\u001b[37m\u001b[0m \u001b[1m7s\u001b[0m 58ms/step - loss: 0.0197\n",
      "Epoch 5/5\n",
      "\u001b[1m127/127\u001b[0m \u001b[32m━━━━━━━━━━━━━━━━━━━━\u001b[0m\u001b[37m\u001b[0m \u001b[1m8s\u001b[0m 60ms/step - loss: 0.0108\n",
      "processed 9843 tokens\n",
      "True Positive: 215, False Positive: 302, False Negative: 145\n",
      "Weighted Precision: 0.572524879199212\n",
      "Weighted Recall: 0.5972222222222222\n",
      "Weighted F1: 0.5587607637474377\n",
      "Micro F5: 0.5873699695282126\n",
      "{'Model Description': 'NER Transformer With One LSTM', 'Sample Random State': 72, 'Epochs': 5, 'embed_dim': 24, 'Num Transformer Heads': 4, 'ff_dim': 96, 'Batch Size': 16}\n",
      "Epoch 1/5\n"
     ]
    },
    {
     "name": "stderr",
     "output_type": "stream",
     "text": [
      "2024-05-21 11:57:17.191522: W tensorflow/core/framework/local_rendezvous.cc:404] Local rendezvous is aborting with status: OUT_OF_RANGE: End of sequence\n"
     ]
    },
    {
     "name": "stdout",
     "output_type": "stream",
     "text": [
      "\u001b[1m127/127\u001b[0m \u001b[32m━━━━━━━━━━━━━━━━━━━━\u001b[0m\u001b[37m\u001b[0m \u001b[1m67s\u001b[0m 362ms/step - loss: 0.7178\n",
      "Epoch 2/5\n",
      "\u001b[1m127/127\u001b[0m \u001b[32m━━━━━━━━━━━━━━━━━━━━\u001b[0m\u001b[37m\u001b[0m \u001b[1m8s\u001b[0m 62ms/step - loss: 0.1430\n",
      "Epoch 3/5\n",
      "\u001b[1m127/127\u001b[0m \u001b[32m━━━━━━━━━━━━━━━━━━━━\u001b[0m\u001b[37m\u001b[0m \u001b[1m7s\u001b[0m 58ms/step - loss: 0.0514\n",
      "Epoch 4/5\n",
      "\u001b[1m127/127\u001b[0m \u001b[32m━━━━━━━━━━━━━━━━━━━━\u001b[0m\u001b[37m\u001b[0m \u001b[1m7s\u001b[0m 59ms/step - loss: 0.0223\n",
      "Epoch 5/5\n",
      "\u001b[1m127/127\u001b[0m \u001b[32m━━━━━━━━━━━━━━━━━━━━\u001b[0m\u001b[37m\u001b[0m \u001b[1m7s\u001b[0m 58ms/step - loss: 0.0118\n",
      "processed 9843 tokens\n",
      "True Positive: 154, False Positive: 108, False Negative: 206\n",
      "Weighted Precision: 0.649238032498902\n",
      "Weighted Recall: 0.4277777777777777\n",
      "Weighted F1: 0.487716687200055\n",
      "Micro F5: 0.4323040380047506\n",
      "{'Model Description': 'NER Transformer With One LSTM', 'Sample Random State': 72, 'Epochs': 5, 'embed_dim': 24, 'Num Transformer Heads': 4, 'ff_dim': 96, 'Batch Size': 16}\n",
      "Epoch 1/5\n"
     ]
    },
    {
     "name": "stderr",
     "output_type": "stream",
     "text": [
      "2024-05-21 11:58:59.883157: W tensorflow/core/framework/local_rendezvous.cc:404] Local rendezvous is aborting with status: OUT_OF_RANGE: End of sequence\n"
     ]
    },
    {
     "name": "stdout",
     "output_type": "stream",
     "text": [
      "\u001b[1m127/127\u001b[0m \u001b[32m━━━━━━━━━━━━━━━━━━━━\u001b[0m\u001b[37m\u001b[0m \u001b[1m66s\u001b[0m 395ms/step - loss: 0.7637\n",
      "Epoch 2/5\n",
      "\u001b[1m127/127\u001b[0m \u001b[32m━━━━━━━━━━━━━━━━━━━━\u001b[0m\u001b[37m\u001b[0m \u001b[1m8s\u001b[0m 60ms/step - loss: 0.1837\n",
      "Epoch 3/5\n",
      "\u001b[1m127/127\u001b[0m \u001b[32m━━━━━━━━━━━━━━━━━━━━\u001b[0m\u001b[37m\u001b[0m \u001b[1m8s\u001b[0m 60ms/step - loss: 0.0678\n",
      "Epoch 4/5\n",
      "\u001b[1m127/127\u001b[0m \u001b[32m━━━━━━━━━━━━━━━━━━━━\u001b[0m\u001b[37m\u001b[0m \u001b[1m7s\u001b[0m 57ms/step - loss: 0.0262\n",
      "Epoch 5/5\n",
      "\u001b[1m127/127\u001b[0m \u001b[32m━━━━━━━━━━━━━━━━━━━━\u001b[0m\u001b[37m\u001b[0m \u001b[1m7s\u001b[0m 56ms/step - loss: 0.0127\n",
      "processed 9843 tokens\n",
      "True Positive: 195, False Positive: 134, False Negative: 165\n",
      "Weighted Precision: 0.6404971307941604\n",
      "Weighted Recall: 0.5416666666666666\n",
      "Weighted F1: 0.5811394170408201\n",
      "Micro F5: 0.5434666094972666\n",
      "{'Model Description': 'NER Transformer With One LSTM', 'Sample Random State': 72, 'Epochs': 5, 'embed_dim': 24, 'Num Transformer Heads': 4, 'ff_dim': 64, 'Batch Size': 16}\n",
      "Epoch 1/5\n"
     ]
    },
    {
     "name": "stderr",
     "output_type": "stream",
     "text": [
      "2024-05-21 12:00:42.211561: W tensorflow/core/framework/local_rendezvous.cc:404] Local rendezvous is aborting with status: OUT_OF_RANGE: End of sequence\n"
     ]
    },
    {
     "name": "stdout",
     "output_type": "stream",
     "text": [
      "\u001b[1m127/127\u001b[0m \u001b[32m━━━━━━━━━━━━━━━━━━━━\u001b[0m\u001b[37m\u001b[0m \u001b[1m71s\u001b[0m 401ms/step - loss: 0.4645\n",
      "Epoch 2/5\n",
      "\u001b[1m127/127\u001b[0m \u001b[32m━━━━━━━━━━━━━━━━━━━━\u001b[0m\u001b[37m\u001b[0m \u001b[1m8s\u001b[0m 63ms/step - loss: 0.1473\n",
      "Epoch 3/5\n",
      "\u001b[1m127/127\u001b[0m \u001b[32m━━━━━━━━━━━━━━━━━━━━\u001b[0m\u001b[37m\u001b[0m \u001b[1m7s\u001b[0m 55ms/step - loss: 0.0558\n",
      "Epoch 4/5\n",
      "\u001b[1m127/127\u001b[0m \u001b[32m━━━━━━━━━━━━━━━━━━━━\u001b[0m\u001b[37m\u001b[0m \u001b[1m7s\u001b[0m 59ms/step - loss: 0.0226\n",
      "Epoch 5/5\n",
      "\u001b[1m127/127\u001b[0m \u001b[32m━━━━━━━━━━━━━━━━━━━━\u001b[0m\u001b[37m\u001b[0m \u001b[1m7s\u001b[0m 58ms/step - loss: 0.0138\n",
      "processed 9843 tokens\n",
      "True Positive: 211, False Positive: 208, False Negative: 149\n",
      "Weighted Precision: 0.531480920654149\n",
      "Weighted Recall: 0.586111111111111\n",
      "Weighted F1: 0.5465088046752807\n",
      "Micro F5: 0.582439749442616\n",
      "{'Model Description': 'NER Transformer With One LSTM', 'Sample Random State': 72, 'Epochs': 5, 'embed_dim': 24, 'Num Transformer Heads': 4, 'ff_dim': 64, 'Batch Size': 16}\n",
      "Epoch 1/5\n"
     ]
    },
    {
     "name": "stderr",
     "output_type": "stream",
     "text": [
      "2024-05-21 12:02:27.950003: W tensorflow/core/framework/local_rendezvous.cc:404] Local rendezvous is aborting with status: OUT_OF_RANGE: End of sequence\n"
     ]
    },
    {
     "name": "stdout",
     "output_type": "stream",
     "text": [
      "\u001b[1m127/127\u001b[0m \u001b[32m━━━━━━━━━━━━━━━━━━━━\u001b[0m\u001b[37m\u001b[0m \u001b[1m70s\u001b[0m 381ms/step - loss: 0.6359\n",
      "Epoch 2/5\n",
      "\u001b[1m127/127\u001b[0m \u001b[32m━━━━━━━━━━━━━━━━━━━━\u001b[0m\u001b[37m\u001b[0m \u001b[1m9s\u001b[0m 69ms/step - loss: 0.1618\n",
      "Epoch 3/5\n",
      "\u001b[1m127/127\u001b[0m \u001b[32m━━━━━━━━━━━━━━━━━━━━\u001b[0m\u001b[37m\u001b[0m \u001b[1m8s\u001b[0m 59ms/step - loss: 0.0684\n",
      "Epoch 4/5\n",
      "\u001b[1m127/127\u001b[0m \u001b[32m━━━━━━━━━━━━━━━━━━━━\u001b[0m\u001b[37m\u001b[0m \u001b[1m7s\u001b[0m 53ms/step - loss: 0.0289\n",
      "Epoch 5/5\n",
      "\u001b[1m127/127\u001b[0m \u001b[32m━━━━━━━━━━━━━━━━━━━━\u001b[0m\u001b[37m\u001b[0m \u001b[1m7s\u001b[0m 59ms/step - loss: 0.0138\n",
      "processed 9843 tokens\n",
      "True Positive: 179, False Positive: 67, False Negative: 181\n",
      "Weighted Precision: 0.7506363081363081\n",
      "Weighted Recall: 0.4972222222222222\n",
      "Weighted F1: 0.5871439563393696\n",
      "Micro F5: 0.5033528012113346\n",
      "{'Model Description': 'NER Transformer With One LSTM', 'Sample Random State': 72, 'Epochs': 5, 'embed_dim': 24, 'Num Transformer Heads': 4, 'ff_dim': 64, 'Batch Size': 16}\n",
      "Epoch 1/5\n"
     ]
    },
    {
     "name": "stderr",
     "output_type": "stream",
     "text": [
      "2024-05-21 12:04:14.912583: W tensorflow/core/framework/local_rendezvous.cc:404] Local rendezvous is aborting with status: OUT_OF_RANGE: End of sequence\n"
     ]
    },
    {
     "name": "stdout",
     "output_type": "stream",
     "text": [
      "\u001b[1m127/127\u001b[0m \u001b[32m━━━━━━━━━━━━━━━━━━━━\u001b[0m\u001b[37m\u001b[0m \u001b[1m69s\u001b[0m 418ms/step - loss: 0.5697\n",
      "Epoch 2/5\n",
      "\u001b[1m127/127\u001b[0m \u001b[32m━━━━━━━━━━━━━━━━━━━━\u001b[0m\u001b[37m\u001b[0m \u001b[1m8s\u001b[0m 61ms/step - loss: 0.1349\n",
      "Epoch 3/5\n",
      "\u001b[1m127/127\u001b[0m \u001b[32m━━━━━━━━━━━━━━━━━━━━\u001b[0m\u001b[37m\u001b[0m \u001b[1m7s\u001b[0m 58ms/step - loss: 0.0527\n",
      "Epoch 4/5\n",
      "\u001b[1m127/127\u001b[0m \u001b[32m━━━━━━━━━━━━━━━━━━━━\u001b[0m\u001b[37m\u001b[0m \u001b[1m9s\u001b[0m 67ms/step - loss: 0.0230\n",
      "Epoch 5/5\n",
      "\u001b[1m127/127\u001b[0m \u001b[32m━━━━━━━━━━━━━━━━━━━━\u001b[0m\u001b[37m\u001b[0m \u001b[1m8s\u001b[0m 66ms/step - loss: 0.0108\n",
      "processed 9843 tokens\n",
      "True Positive: 154, False Positive: 60, False Negative: 206\n",
      "Weighted Precision: 0.7092402570480928\n",
      "Weighted Recall: 0.4277777777777777\n",
      "Weighted F1: 0.5178118943202255\n",
      "Micro F5: 0.43455611026698504\n",
      "{'Model Description': 'NER Transformer With One LSTM', 'Sample Random State': 72, 'Epochs': 5, 'embed_dim': 24, 'Num Transformer Heads': 4, 'ff_dim': 48, 'Batch Size': 16}\n",
      "Epoch 1/5\n"
     ]
    },
    {
     "name": "stderr",
     "output_type": "stream",
     "text": [
      "2024-05-21 12:06:04.039623: W tensorflow/core/framework/local_rendezvous.cc:404] Local rendezvous is aborting with status: OUT_OF_RANGE: End of sequence\n"
     ]
    },
    {
     "name": "stdout",
     "output_type": "stream",
     "text": [
      "\u001b[1m127/127\u001b[0m \u001b[32m━━━━━━━━━━━━━━━━━━━━\u001b[0m\u001b[37m\u001b[0m \u001b[1m75s\u001b[0m 414ms/step - loss: 0.7632\n",
      "Epoch 2/5\n",
      "\u001b[1m127/127\u001b[0m \u001b[32m━━━━━━━━━━━━━━━━━━━━\u001b[0m\u001b[37m\u001b[0m \u001b[1m8s\u001b[0m 62ms/step - loss: 0.1947\n",
      "Epoch 3/5\n",
      "\u001b[1m127/127\u001b[0m \u001b[32m━━━━━━━━━━━━━━━━━━━━\u001b[0m\u001b[37m\u001b[0m \u001b[1m7s\u001b[0m 57ms/step - loss: 0.0862\n",
      "Epoch 4/5\n",
      "\u001b[1m127/127\u001b[0m \u001b[32m━━━━━━━━━━━━━━━━━━━━\u001b[0m\u001b[37m\u001b[0m \u001b[1m7s\u001b[0m 59ms/step - loss: 0.0357\n",
      "Epoch 5/5\n",
      "\u001b[1m127/127\u001b[0m \u001b[32m━━━━━━━━━━━━━━━━━━━━\u001b[0m\u001b[37m\u001b[0m \u001b[1m8s\u001b[0m 63ms/step - loss: 0.0180\n",
      "processed 9843 tokens\n",
      "True Positive: 174, False Positive: 239, False Negative: 186\n",
      "Weighted Precision: 0.616547379329675\n",
      "Weighted Recall: 0.4833333333333333\n",
      "Weighted F1: 0.4688910392733196\n",
      "Micro F5: 0.4806119196855413\n",
      "{'Model Description': 'NER Transformer With One LSTM', 'Sample Random State': 72, 'Epochs': 5, 'embed_dim': 24, 'Num Transformer Heads': 4, 'ff_dim': 48, 'Batch Size': 16}\n",
      "Epoch 1/5\n"
     ]
    },
    {
     "name": "stderr",
     "output_type": "stream",
     "text": [
      "2024-05-21 12:07:56.589010: W tensorflow/core/framework/local_rendezvous.cc:404] Local rendezvous is aborting with status: OUT_OF_RANGE: End of sequence\n"
     ]
    },
    {
     "name": "stdout",
     "output_type": "stream",
     "text": [
      "\u001b[1m127/127\u001b[0m \u001b[32m━━━━━━━━━━━━━━━━━━━━\u001b[0m\u001b[37m\u001b[0m \u001b[1m78s\u001b[0m 434ms/step - loss: 0.7600\n",
      "Epoch 2/5\n",
      "\u001b[1m127/127\u001b[0m \u001b[32m━━━━━━━━━━━━━━━━━━━━\u001b[0m\u001b[37m\u001b[0m \u001b[1m8s\u001b[0m 62ms/step - loss: 0.1626\n",
      "Epoch 3/5\n",
      "\u001b[1m127/127\u001b[0m \u001b[32m━━━━━━━━━━━━━━━━━━━━\u001b[0m\u001b[37m\u001b[0m \u001b[1m7s\u001b[0m 57ms/step - loss: 0.0681\n",
      "Epoch 4/5\n",
      "\u001b[1m127/127\u001b[0m \u001b[32m━━━━━━━━━━━━━━━━━━━━\u001b[0m\u001b[37m\u001b[0m \u001b[1m8s\u001b[0m 63ms/step - loss: 0.0323\n",
      "Epoch 5/5\n",
      "\u001b[1m127/127\u001b[0m \u001b[32m━━━━━━━━━━━━━━━━━━━━\u001b[0m\u001b[37m\u001b[0m \u001b[1m7s\u001b[0m 56ms/step - loss: 0.0166\n",
      "processed 9843 tokens\n",
      "True Positive: 156, False Positive: 81, False Negative: 204\n",
      "Weighted Precision: 0.6997578138707172\n",
      "Weighted Recall: 0.43333333333333324\n",
      "Weighted F1: 0.4881263092798192\n",
      "Micro F5: 0.4391036050665801\n",
      "{'Model Description': 'NER Transformer With One LSTM', 'Sample Random State': 72, 'Epochs': 5, 'embed_dim': 24, 'Num Transformer Heads': 4, 'ff_dim': 48, 'Batch Size': 16}\n",
      "Epoch 1/5\n"
     ]
    },
    {
     "name": "stderr",
     "output_type": "stream",
     "text": [
      "2024-05-21 12:09:50.749282: W tensorflow/core/framework/local_rendezvous.cc:404] Local rendezvous is aborting with status: OUT_OF_RANGE: End of sequence\n"
     ]
    },
    {
     "name": "stdout",
     "output_type": "stream",
     "text": [
      "\u001b[1m127/127\u001b[0m \u001b[32m━━━━━━━━━━━━━━━━━━━━\u001b[0m\u001b[37m\u001b[0m \u001b[1m73s\u001b[0m 443ms/step - loss: 0.8738\n",
      "Epoch 2/5\n",
      "\u001b[1m127/127\u001b[0m \u001b[32m━━━━━━━━━━━━━━━━━━━━\u001b[0m\u001b[37m\u001b[0m \u001b[1m8s\u001b[0m 61ms/step - loss: 0.2300\n",
      "Epoch 3/5\n",
      "\u001b[1m127/127\u001b[0m \u001b[32m━━━━━━━━━━━━━━━━━━━━\u001b[0m\u001b[37m\u001b[0m \u001b[1m9s\u001b[0m 67ms/step - loss: 0.2040\n",
      "Epoch 4/5\n",
      "\u001b[1m127/127\u001b[0m \u001b[32m━━━━━━━━━━━━━━━━━━━━\u001b[0m\u001b[37m\u001b[0m \u001b[1m8s\u001b[0m 59ms/step - loss: 0.1896\n",
      "Epoch 5/5\n",
      "\u001b[1m127/127\u001b[0m \u001b[32m━━━━━━━━━━━━━━━━━━━━\u001b[0m\u001b[37m\u001b[0m \u001b[1m8s\u001b[0m 63ms/step - loss: 0.1125\n",
      "processed 9843 tokens\n",
      "True Positive: 156, False Positive: 397, False Negative: 204\n",
      "Weighted Precision: 0.41455555555555557\n",
      "Weighted Recall: 0.4333333333333333\n",
      "Weighted F1: 0.22448597847506443\n",
      "Micro F5: 0.42457866638752223\n",
      "{'Model Description': 'NER Transformer With One LSTM', 'Sample Random State': 72, 'Epochs': 5, 'embed_dim': 24, 'Num Transformer Heads': 4, 'ff_dim': 32, 'Batch Size': 16}\n",
      "Epoch 1/5\n"
     ]
    },
    {
     "name": "stderr",
     "output_type": "stream",
     "text": [
      "2024-05-21 12:11:42.264193: W tensorflow/core/framework/local_rendezvous.cc:404] Local rendezvous is aborting with status: OUT_OF_RANGE: End of sequence\n"
     ]
    },
    {
     "name": "stdout",
     "output_type": "stream",
     "text": [
      "\u001b[1m127/127\u001b[0m \u001b[32m━━━━━━━━━━━━━━━━━━━━\u001b[0m\u001b[37m\u001b[0m \u001b[1m80s\u001b[0m 447ms/step - loss: 0.8195\n",
      "Epoch 2/5\n",
      "\u001b[1m127/127\u001b[0m \u001b[32m━━━━━━━━━━━━━━━━━━━━\u001b[0m\u001b[37m\u001b[0m \u001b[1m8s\u001b[0m 63ms/step - loss: 0.1889\n",
      "Epoch 3/5\n",
      "\u001b[1m127/127\u001b[0m \u001b[32m━━━━━━━━━━━━━━━━━━━━\u001b[0m\u001b[37m\u001b[0m \u001b[1m8s\u001b[0m 64ms/step - loss: 0.0838\n",
      "Epoch 4/5\n",
      "\u001b[1m127/127\u001b[0m \u001b[32m━━━━━━━━━━━━━━━━━━━━\u001b[0m\u001b[37m\u001b[0m \u001b[1m8s\u001b[0m 62ms/step - loss: 0.0329\n",
      "Epoch 5/5\n",
      "\u001b[1m127/127\u001b[0m \u001b[32m━━━━━━━━━━━━━━━━━━━━\u001b[0m\u001b[37m\u001b[0m \u001b[1m8s\u001b[0m 67ms/step - loss: 0.0200\n",
      "processed 9843 tokens\n",
      "True Positive: 201, False Positive: 150, False Negative: 159\n",
      "Weighted Precision: 0.5864237441464453\n",
      "Weighted Recall: 0.5583333333333333\n",
      "Weighted F1: 0.5503005209693264\n",
      "Micro F5: 0.5588707090150786\n",
      "{'Model Description': 'NER Transformer With One LSTM', 'Sample Random State': 72, 'Epochs': 5, 'embed_dim': 24, 'Num Transformer Heads': 4, 'ff_dim': 32, 'Batch Size': 16}\n",
      "Epoch 1/5\n"
     ]
    },
    {
     "name": "stderr",
     "output_type": "stream",
     "text": [
      "2024-05-21 12:13:41.942251: W tensorflow/core/framework/local_rendezvous.cc:404] Local rendezvous is aborting with status: OUT_OF_RANGE: End of sequence\n"
     ]
    },
    {
     "name": "stdout",
     "output_type": "stream",
     "text": [
      "\u001b[1m127/127\u001b[0m \u001b[32m━━━━━━━━━━━━━━━━━━━━\u001b[0m\u001b[37m\u001b[0m \u001b[1m77s\u001b[0m 450ms/step - loss: 0.6258\n",
      "Epoch 2/5\n",
      "\u001b[1m127/127\u001b[0m \u001b[32m━━━━━━━━━━━━━━━━━━━━\u001b[0m\u001b[37m\u001b[0m \u001b[1m8s\u001b[0m 65ms/step - loss: 0.1690\n",
      "Epoch 3/5\n",
      "\u001b[1m127/127\u001b[0m \u001b[32m━━━━━━━━━━━━━━━━━━━━\u001b[0m\u001b[37m\u001b[0m \u001b[1m8s\u001b[0m 67ms/step - loss: 0.0718\n",
      "Epoch 4/5\n",
      "\u001b[1m127/127\u001b[0m \u001b[32m━━━━━━━━━━━━━━━━━━━━\u001b[0m\u001b[37m\u001b[0m \u001b[1m9s\u001b[0m 67ms/step - loss: 0.0310\n",
      "Epoch 5/5\n",
      "\u001b[1m127/127\u001b[0m \u001b[32m━━━━━━━━━━━━━━━━━━━━\u001b[0m\u001b[37m\u001b[0m \u001b[1m8s\u001b[0m 60ms/step - loss: 0.0160\n",
      "processed 9843 tokens\n",
      "True Positive: 188, False Positive: 110, False Negative: 172\n",
      "Weighted Precision: 0.6430803662590767\n",
      "Weighted Recall: 0.5222222222222223\n",
      "Weighted F1: 0.5402869440584958\n",
      "Micro F5: 0.5257044525704453\n",
      "{'Model Description': 'NER Transformer With One LSTM', 'Sample Random State': 72, 'Epochs': 5, 'embed_dim': 24, 'Num Transformer Heads': 4, 'ff_dim': 32, 'Batch Size': 16}\n",
      "Epoch 1/5\n"
     ]
    },
    {
     "name": "stderr",
     "output_type": "stream",
     "text": [
      "2024-05-21 12:15:37.188204: W tensorflow/core/framework/local_rendezvous.cc:404] Local rendezvous is aborting with status: OUT_OF_RANGE: End of sequence\n"
     ]
    },
    {
     "name": "stdout",
     "output_type": "stream",
     "text": [
      "\u001b[1m127/127\u001b[0m \u001b[32m━━━━━━━━━━━━━━━━━━━━\u001b[0m\u001b[37m\u001b[0m \u001b[1m72s\u001b[0m 389ms/step - loss: 0.9466\n",
      "Epoch 2/5\n",
      "\u001b[1m127/127\u001b[0m \u001b[32m━━━━━━━━━━━━━━━━━━━━\u001b[0m\u001b[37m\u001b[0m \u001b[1m8s\u001b[0m 59ms/step - loss: 0.2093\n",
      "Epoch 3/5\n",
      "\u001b[1m127/127\u001b[0m \u001b[32m━━━━━━━━━━━━━━━━━━━━\u001b[0m\u001b[37m\u001b[0m \u001b[1m8s\u001b[0m 62ms/step - loss: 0.1045\n",
      "Epoch 4/5\n",
      "\u001b[1m127/127\u001b[0m \u001b[32m━━━━━━━━━━━━━━━━━━━━\u001b[0m\u001b[37m\u001b[0m \u001b[1m7s\u001b[0m 54ms/step - loss: 0.0423\n",
      "Epoch 5/5\n",
      "\u001b[1m127/127\u001b[0m \u001b[32m━━━━━━━━━━━━━━━━━━━━\u001b[0m\u001b[37m\u001b[0m \u001b[1m7s\u001b[0m 57ms/step - loss: 0.0228\n",
      "processed 9843 tokens\n",
      "True Positive: 171, False Positive: 82, False Negative: 189\n",
      "Weighted Precision: 0.6339652410179802\n",
      "Weighted Recall: 0.475\n",
      "Weighted F1: 0.5372840918721925\n",
      "Micro F5: 0.4804928131416838\n",
      "{'Model Description': 'NER Transformer With One LSTM', 'Sample Random State': 72, 'Epochs': 5, 'embed_dim': 64, 'Num Transformer Heads': 4, 'ff_dim': 96, 'Batch Size': 16}\n",
      "Epoch 1/5\n"
     ]
    },
    {
     "name": "stderr",
     "output_type": "stream",
     "text": [
      "2024-05-21 12:17:25.582931: W tensorflow/core/framework/local_rendezvous.cc:404] Local rendezvous is aborting with status: OUT_OF_RANGE: End of sequence\n"
     ]
    },
    {
     "name": "stdout",
     "output_type": "stream",
     "text": [
      "\u001b[1m127/127\u001b[0m \u001b[32m━━━━━━━━━━━━━━━━━━━━\u001b[0m\u001b[37m\u001b[0m \u001b[1m84s\u001b[0m 395ms/step - loss: 0.6333\n",
      "Epoch 2/5\n",
      "\u001b[1m127/127\u001b[0m \u001b[32m━━━━━━━━━━━━━━━━━━━━\u001b[0m\u001b[37m\u001b[0m \u001b[1m8s\u001b[0m 60ms/step - loss: 0.1649\n",
      "Epoch 3/5\n",
      "\u001b[1m127/127\u001b[0m \u001b[32m━━━━━━━━━━━━━━━━━━━━\u001b[0m\u001b[37m\u001b[0m \u001b[1m8s\u001b[0m 60ms/step - loss: 0.0824\n",
      "Epoch 4/5\n",
      "\u001b[1m127/127\u001b[0m \u001b[32m━━━━━━━━━━━━━━━━━━━━\u001b[0m\u001b[37m\u001b[0m \u001b[1m8s\u001b[0m 63ms/step - loss: 0.0228\n",
      "Epoch 5/5\n",
      "\u001b[1m127/127\u001b[0m \u001b[32m━━━━━━━━━━━━━━━━━━━━\u001b[0m\u001b[37m\u001b[0m \u001b[1m14s\u001b[0m 106ms/step - loss: 0.0092\n",
      "processed 9843 tokens\n",
      "True Positive: 146, False Positive: 135, False Negative: 214\n",
      "Weighted Precision: 0.7229372317037591\n",
      "Weighted Recall: 0.40555555555555556\n",
      "Weighted F1: 0.4828557332721553\n",
      "Micro F5: 0.40900765003771145\n",
      "{'Model Description': 'NER Transformer With One LSTM', 'Sample Random State': 72, 'Epochs': 5, 'embed_dim': 64, 'Num Transformer Heads': 4, 'ff_dim': 96, 'Batch Size': 16}\n",
      "Epoch 1/5\n"
     ]
    },
    {
     "name": "stderr",
     "output_type": "stream",
     "text": [
      "2024-05-21 12:19:32.460965: W tensorflow/core/framework/local_rendezvous.cc:404] Local rendezvous is aborting with status: OUT_OF_RANGE: End of sequence\n"
     ]
    },
    {
     "name": "stdout",
     "output_type": "stream",
     "text": [
      "\u001b[1m127/127\u001b[0m \u001b[32m━━━━━━━━━━━━━━━━━━━━\u001b[0m\u001b[37m\u001b[0m \u001b[1m64s\u001b[0m 355ms/step - loss: 0.5851\n",
      "Epoch 2/5\n",
      "\u001b[1m127/127\u001b[0m \u001b[32m━━━━━━━━━━━━━━━━━━━━\u001b[0m\u001b[37m\u001b[0m \u001b[1m7s\u001b[0m 56ms/step - loss: 0.2001\n",
      "Epoch 3/5\n",
      "\u001b[1m127/127\u001b[0m \u001b[32m━━━━━━━━━━━━━━━━━━━━\u001b[0m\u001b[37m\u001b[0m \u001b[1m8s\u001b[0m 62ms/step - loss: 0.0972\n",
      "Epoch 4/5\n",
      "\u001b[1m127/127\u001b[0m \u001b[32m━━━━━━━━━━━━━━━━━━━━\u001b[0m\u001b[37m\u001b[0m \u001b[1m7s\u001b[0m 57ms/step - loss: 0.0630\n",
      "Epoch 5/5\n",
      "\u001b[1m127/127\u001b[0m \u001b[32m━━━━━━━━━━━━━━━━━━━━\u001b[0m\u001b[37m\u001b[0m \u001b[1m7s\u001b[0m 54ms/step - loss: 0.0277\n",
      "processed 9843 tokens\n",
      "True Positive: 142, False Positive: 99, False Negative: 218\n",
      "Weighted Precision: 0.6040623966486605\n",
      "Weighted Recall: 0.39444444444444443\n",
      "Weighted F1: 0.4411713094976969\n",
      "Micro F5: 0.3995238610539985\n",
      "{'Model Description': 'NER Transformer With One LSTM', 'Sample Random State': 72, 'Epochs': 5, 'embed_dim': 64, 'Num Transformer Heads': 4, 'ff_dim': 96, 'Batch Size': 16}\n",
      "Epoch 1/5\n"
     ]
    },
    {
     "name": "stderr",
     "output_type": "stream",
     "text": [
      "2024-05-21 12:21:12.571460: W tensorflow/core/framework/local_rendezvous.cc:404] Local rendezvous is aborting with status: OUT_OF_RANGE: End of sequence\n"
     ]
    },
    {
     "name": "stdout",
     "output_type": "stream",
     "text": [
      "\u001b[1m127/127\u001b[0m \u001b[32m━━━━━━━━━━━━━━━━━━━━\u001b[0m\u001b[37m\u001b[0m \u001b[1m61s\u001b[0m 367ms/step - loss: 0.5810\n",
      "Epoch 2/5\n",
      "\u001b[1m127/127\u001b[0m \u001b[32m━━━━━━━━━━━━━━━━━━━━\u001b[0m\u001b[37m\u001b[0m \u001b[1m8s\u001b[0m 62ms/step - loss: 0.1963\n",
      "Epoch 3/5\n",
      "\u001b[1m127/127\u001b[0m \u001b[32m━━━━━━━━━━━━━━━━━━━━\u001b[0m\u001b[37m\u001b[0m \u001b[1m8s\u001b[0m 60ms/step - loss: 0.1777\n",
      "Epoch 4/5\n",
      "\u001b[1m127/127\u001b[0m \u001b[32m━━━━━━━━━━━━━━━━━━━━\u001b[0m\u001b[37m\u001b[0m \u001b[1m8s\u001b[0m 59ms/step - loss: 0.0980\n",
      "Epoch 5/5\n",
      "\u001b[1m127/127\u001b[0m \u001b[32m━━━━━━━━━━━━━━━━━━━━\u001b[0m\u001b[37m\u001b[0m \u001b[1m7s\u001b[0m 57ms/step - loss: 0.0645\n",
      "processed 9843 tokens\n",
      "True Positive: 121, False Positive: 62, False Negative: 239\n",
      "Weighted Precision: 0.5983478471214321\n",
      "Weighted Recall: 0.3361111111111111\n",
      "Weighted F1: 0.4205859957401491\n",
      "Micro F5: 0.3425895676794076\n",
      "{'Model Description': 'NER Transformer With One LSTM', 'Sample Random State': 72, 'Epochs': 5, 'embed_dim': 48, 'Num Transformer Heads': 4, 'ff_dim': 96, 'Batch Size': 16}\n",
      "Epoch 1/5\n"
     ]
    },
    {
     "name": "stderr",
     "output_type": "stream",
     "text": [
      "2024-05-21 12:22:48.981116: W tensorflow/core/framework/local_rendezvous.cc:404] Local rendezvous is aborting with status: OUT_OF_RANGE: End of sequence\n"
     ]
    },
    {
     "name": "stdout",
     "output_type": "stream",
     "text": [
      "\u001b[1m127/127\u001b[0m \u001b[32m━━━━━━━━━━━━━━━━━━━━\u001b[0m\u001b[37m\u001b[0m \u001b[1m70s\u001b[0m 387ms/step - loss: 0.5060\n",
      "Epoch 2/5\n",
      "\u001b[1m127/127\u001b[0m \u001b[32m━━━━━━━━━━━━━━━━━━━━\u001b[0m\u001b[37m\u001b[0m \u001b[1m7s\u001b[0m 56ms/step - loss: 0.1382\n",
      "Epoch 3/5\n",
      "\u001b[1m127/127\u001b[0m \u001b[32m━━━━━━━━━━━━━━━━━━━━\u001b[0m\u001b[37m\u001b[0m \u001b[1m7s\u001b[0m 56ms/step - loss: 0.0394\n",
      "Epoch 4/5\n",
      "\u001b[1m127/127\u001b[0m \u001b[32m━━━━━━━━━━━━━━━━━━━━\u001b[0m\u001b[37m\u001b[0m \u001b[1m8s\u001b[0m 59ms/step - loss: 0.0176\n",
      "Epoch 5/5\n",
      "\u001b[1m127/127\u001b[0m \u001b[32m━━━━━━━━━━━━━━━━━━━━\u001b[0m\u001b[37m\u001b[0m \u001b[1m7s\u001b[0m 58ms/step - loss: 0.0078\n"
     ]
    },
    {
     "name": "stderr",
     "output_type": "stream",
     "text": [
      "2024-05-21 12:24:34.730260: W tensorflow/core/framework/local_rendezvous.cc:404] Local rendezvous is aborting with status: OUT_OF_RANGE: End of sequence\n"
     ]
    },
    {
     "name": "stdout",
     "output_type": "stream",
     "text": [
      "processed 9843 tokens\n",
      "True Positive: 278, False Positive: 126, False Negative: 82\n",
      "Weighted Precision: 0.6950490196078432\n",
      "Weighted Recall: 0.7722222222222221\n",
      "Weighted F1: 0.7249889381220358\n",
      "Micro F5: 0.7686091025095704\n"
     ]
    }
   ],
   "source": [
    "batch = 16\n",
    "train_dataset, val_dataset = get_training_data(X,y,state = params['Sample Random State'], batch_size = batch)\n",
    "\n",
    "for num in params['Num Transformer Heads']:\n",
    "    for (embed_dim, ff_dim) in list(dim_combos):\n",
    "        for i in range(3):\n",
    "\n",
    "            r = {'Model Description' : 'NER Transformer With One LSTM',\n",
    "                 'Sample Random State' : params['Sample Random State'],\n",
    "                 'Epochs' : 5,\n",
    "                 'embed_dim' : embed_dim,\n",
    "                 'Num Transformer Heads' : num,\n",
    "                 'ff_dim' : ff_dim,\n",
    "                 'Batch Size' : batch}\n",
    "\n",
    "            print(r)\n",
    "            ner_model = NERModelWithOneLSTM(num_tags, \n",
    "                                              vocab_size, \n",
    "                                              embed_dim=r['embed_dim'], \n",
    "                                              num_heads=r['Num Transformer Heads'], \n",
    "                                              ff_dim=r['ff_dim'])\n",
    "            ner_model.compile(optimizer='adam',loss=loss)\n",
    "            ner_model.fit(train_dataset, epochs=r['Epochs'])\n",
    "            tmp_results, record_dict = calculate_metrics(val_dataset, ner_model)\n",
    "            r.update({'Dataset Type': 'validation'})\n",
    "            r.update(record_dict)\n",
    "            results_df.add_record(r)\n",
    "            results_df.to_csv(FILE)\n",
    "            results_list.append(tmp_results)\n",
    "            pd.concat(results_list,axis = 0,ignore_index=True).to_csv(RESULTS)\n",
    "            micro_f5 = record_dict['Micro F5']\n",
    "            if micro_f5 > 0.7:\n",
    "                test_dataset = get_test_data(train.loc[train.document.isin(list(df1.loc[list(test_doc_ids),:].document)), 'tokens'],\n",
    "                             train.loc[train.document.isin(list(df1.loc[list(test_doc_ids),:].document)),'labels'], batch)\n",
    "                tmp2_results, record_dict = calculate_metrics(test_dataset, ner_model)\n",
    "                r.update({'Dataset Type': 'test'})\n",
    "                r.update(record_dict)\n",
    "                results_df.add_record(r)\n",
    "                results_df.to_csv('lstm.csv')\n",
    "                results_list.append(tmp2_results)\n",
    "                pd.concat(results_list,axis = 0,ignore_index=True).to_csv(RESULTS)"
   ]
  }
 ],
 "metadata": {
  "kernelspec": {
   "display_name": "Python 3 (ipykernel)",
   "language": "python",
   "name": "python3"
  },
  "language_info": {
   "codemirror_mode": {
    "name": "ipython",
    "version": 3
   },
   "file_extension": ".py",
   "mimetype": "text/x-python",
   "name": "python",
   "nbconvert_exporter": "python",
   "pygments_lexer": "ipython3",
   "version": "3.11.7"
  }
 },
 "nbformat": 4,
 "nbformat_minor": 5
}
